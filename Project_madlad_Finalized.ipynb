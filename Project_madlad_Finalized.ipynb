{
  "nbformat": 4,
  "nbformat_minor": 0,
  "metadata": {
    "colab": {
      "provenance": [],
      "gpuType": "T4",
      "include_colab_link": true
    },
    "kernelspec": {
      "name": "python3",
      "display_name": "Python 3"
    },
    "language_info": {
      "name": "python"
    },
    "accelerator": "GPU",
    "widgets": {
      "application/vnd.jupyter.widget-state+json": {
        "df203823cbf24d93a2ced62116c0802a": {
          "model_module": "@jupyter-widgets/controls",
          "model_name": "HBoxModel",
          "model_module_version": "1.5.0",
          "state": {
            "_dom_classes": [],
            "_model_module": "@jupyter-widgets/controls",
            "_model_module_version": "1.5.0",
            "_model_name": "HBoxModel",
            "_view_count": null,
            "_view_module": "@jupyter-widgets/controls",
            "_view_module_version": "1.5.0",
            "_view_name": "HBoxView",
            "box_style": "",
            "children": [
              "IPY_MODEL_9fd01adc5f2240418d98c2617bcb9a03",
              "IPY_MODEL_a8e2d2d0fad44654a30ff68df623ca92",
              "IPY_MODEL_3f83029191b34e6c836c05809c8b3978"
            ],
            "layout": "IPY_MODEL_6b1c15d4080c40dd8f62d0bd908ffd00"
          }
        },
        "9fd01adc5f2240418d98c2617bcb9a03": {
          "model_module": "@jupyter-widgets/controls",
          "model_name": "HTMLModel",
          "model_module_version": "1.5.0",
          "state": {
            "_dom_classes": [],
            "_model_module": "@jupyter-widgets/controls",
            "_model_module_version": "1.5.0",
            "_model_name": "HTMLModel",
            "_view_count": null,
            "_view_module": "@jupyter-widgets/controls",
            "_view_module_version": "1.5.0",
            "_view_name": "HTMLView",
            "description": "",
            "description_tooltip": null,
            "layout": "IPY_MODEL_1c07482f410f49078186b8a9451da05a",
            "placeholder": "​",
            "style": "IPY_MODEL_09672fdf57fc46b58d2fc93414e28f11",
            "value": "config.json: 100%"
          }
        },
        "a8e2d2d0fad44654a30ff68df623ca92": {
          "model_module": "@jupyter-widgets/controls",
          "model_name": "FloatProgressModel",
          "model_module_version": "1.5.0",
          "state": {
            "_dom_classes": [],
            "_model_module": "@jupyter-widgets/controls",
            "_model_module_version": "1.5.0",
            "_model_name": "FloatProgressModel",
            "_view_count": null,
            "_view_module": "@jupyter-widgets/controls",
            "_view_module_version": "1.5.0",
            "_view_name": "ProgressView",
            "bar_style": "success",
            "description": "",
            "description_tooltip": null,
            "layout": "IPY_MODEL_17a2cac4721a4afb9ce5eec474f48b51",
            "max": 749,
            "min": 0,
            "orientation": "horizontal",
            "style": "IPY_MODEL_8a3f60d8b11444e582df2369a470abcf",
            "value": 749
          }
        },
        "3f83029191b34e6c836c05809c8b3978": {
          "model_module": "@jupyter-widgets/controls",
          "model_name": "HTMLModel",
          "model_module_version": "1.5.0",
          "state": {
            "_dom_classes": [],
            "_model_module": "@jupyter-widgets/controls",
            "_model_module_version": "1.5.0",
            "_model_name": "HTMLModel",
            "_view_count": null,
            "_view_module": "@jupyter-widgets/controls",
            "_view_module_version": "1.5.0",
            "_view_name": "HTMLView",
            "description": "",
            "description_tooltip": null,
            "layout": "IPY_MODEL_fbe081df07264a3bb361c430998dc751",
            "placeholder": "​",
            "style": "IPY_MODEL_ab75756e467a472e8cb60894b9912a11",
            "value": " 749/749 [00:00&lt;00:00, 21.4kB/s]"
          }
        },
        "6b1c15d4080c40dd8f62d0bd908ffd00": {
          "model_module": "@jupyter-widgets/base",
          "model_name": "LayoutModel",
          "model_module_version": "1.2.0",
          "state": {
            "_model_module": "@jupyter-widgets/base",
            "_model_module_version": "1.2.0",
            "_model_name": "LayoutModel",
            "_view_count": null,
            "_view_module": "@jupyter-widgets/base",
            "_view_module_version": "1.2.0",
            "_view_name": "LayoutView",
            "align_content": null,
            "align_items": null,
            "align_self": null,
            "border": null,
            "bottom": null,
            "display": null,
            "flex": null,
            "flex_flow": null,
            "grid_area": null,
            "grid_auto_columns": null,
            "grid_auto_flow": null,
            "grid_auto_rows": null,
            "grid_column": null,
            "grid_gap": null,
            "grid_row": null,
            "grid_template_areas": null,
            "grid_template_columns": null,
            "grid_template_rows": null,
            "height": null,
            "justify_content": null,
            "justify_items": null,
            "left": null,
            "margin": null,
            "max_height": null,
            "max_width": null,
            "min_height": null,
            "min_width": null,
            "object_fit": null,
            "object_position": null,
            "order": null,
            "overflow": null,
            "overflow_x": null,
            "overflow_y": null,
            "padding": null,
            "right": null,
            "top": null,
            "visibility": null,
            "width": null
          }
        },
        "1c07482f410f49078186b8a9451da05a": {
          "model_module": "@jupyter-widgets/base",
          "model_name": "LayoutModel",
          "model_module_version": "1.2.0",
          "state": {
            "_model_module": "@jupyter-widgets/base",
            "_model_module_version": "1.2.0",
            "_model_name": "LayoutModel",
            "_view_count": null,
            "_view_module": "@jupyter-widgets/base",
            "_view_module_version": "1.2.0",
            "_view_name": "LayoutView",
            "align_content": null,
            "align_items": null,
            "align_self": null,
            "border": null,
            "bottom": null,
            "display": null,
            "flex": null,
            "flex_flow": null,
            "grid_area": null,
            "grid_auto_columns": null,
            "grid_auto_flow": null,
            "grid_auto_rows": null,
            "grid_column": null,
            "grid_gap": null,
            "grid_row": null,
            "grid_template_areas": null,
            "grid_template_columns": null,
            "grid_template_rows": null,
            "height": null,
            "justify_content": null,
            "justify_items": null,
            "left": null,
            "margin": null,
            "max_height": null,
            "max_width": null,
            "min_height": null,
            "min_width": null,
            "object_fit": null,
            "object_position": null,
            "order": null,
            "overflow": null,
            "overflow_x": null,
            "overflow_y": null,
            "padding": null,
            "right": null,
            "top": null,
            "visibility": null,
            "width": null
          }
        },
        "09672fdf57fc46b58d2fc93414e28f11": {
          "model_module": "@jupyter-widgets/controls",
          "model_name": "DescriptionStyleModel",
          "model_module_version": "1.5.0",
          "state": {
            "_model_module": "@jupyter-widgets/controls",
            "_model_module_version": "1.5.0",
            "_model_name": "DescriptionStyleModel",
            "_view_count": null,
            "_view_module": "@jupyter-widgets/base",
            "_view_module_version": "1.2.0",
            "_view_name": "StyleView",
            "description_width": ""
          }
        },
        "17a2cac4721a4afb9ce5eec474f48b51": {
          "model_module": "@jupyter-widgets/base",
          "model_name": "LayoutModel",
          "model_module_version": "1.2.0",
          "state": {
            "_model_module": "@jupyter-widgets/base",
            "_model_module_version": "1.2.0",
            "_model_name": "LayoutModel",
            "_view_count": null,
            "_view_module": "@jupyter-widgets/base",
            "_view_module_version": "1.2.0",
            "_view_name": "LayoutView",
            "align_content": null,
            "align_items": null,
            "align_self": null,
            "border": null,
            "bottom": null,
            "display": null,
            "flex": null,
            "flex_flow": null,
            "grid_area": null,
            "grid_auto_columns": null,
            "grid_auto_flow": null,
            "grid_auto_rows": null,
            "grid_column": null,
            "grid_gap": null,
            "grid_row": null,
            "grid_template_areas": null,
            "grid_template_columns": null,
            "grid_template_rows": null,
            "height": null,
            "justify_content": null,
            "justify_items": null,
            "left": null,
            "margin": null,
            "max_height": null,
            "max_width": null,
            "min_height": null,
            "min_width": null,
            "object_fit": null,
            "object_position": null,
            "order": null,
            "overflow": null,
            "overflow_x": null,
            "overflow_y": null,
            "padding": null,
            "right": null,
            "top": null,
            "visibility": null,
            "width": null
          }
        },
        "8a3f60d8b11444e582df2369a470abcf": {
          "model_module": "@jupyter-widgets/controls",
          "model_name": "ProgressStyleModel",
          "model_module_version": "1.5.0",
          "state": {
            "_model_module": "@jupyter-widgets/controls",
            "_model_module_version": "1.5.0",
            "_model_name": "ProgressStyleModel",
            "_view_count": null,
            "_view_module": "@jupyter-widgets/base",
            "_view_module_version": "1.2.0",
            "_view_name": "StyleView",
            "bar_color": null,
            "description_width": ""
          }
        },
        "fbe081df07264a3bb361c430998dc751": {
          "model_module": "@jupyter-widgets/base",
          "model_name": "LayoutModel",
          "model_module_version": "1.2.0",
          "state": {
            "_model_module": "@jupyter-widgets/base",
            "_model_module_version": "1.2.0",
            "_model_name": "LayoutModel",
            "_view_count": null,
            "_view_module": "@jupyter-widgets/base",
            "_view_module_version": "1.2.0",
            "_view_name": "LayoutView",
            "align_content": null,
            "align_items": null,
            "align_self": null,
            "border": null,
            "bottom": null,
            "display": null,
            "flex": null,
            "flex_flow": null,
            "grid_area": null,
            "grid_auto_columns": null,
            "grid_auto_flow": null,
            "grid_auto_rows": null,
            "grid_column": null,
            "grid_gap": null,
            "grid_row": null,
            "grid_template_areas": null,
            "grid_template_columns": null,
            "grid_template_rows": null,
            "height": null,
            "justify_content": null,
            "justify_items": null,
            "left": null,
            "margin": null,
            "max_height": null,
            "max_width": null,
            "min_height": null,
            "min_width": null,
            "object_fit": null,
            "object_position": null,
            "order": null,
            "overflow": null,
            "overflow_x": null,
            "overflow_y": null,
            "padding": null,
            "right": null,
            "top": null,
            "visibility": null,
            "width": null
          }
        },
        "ab75756e467a472e8cb60894b9912a11": {
          "model_module": "@jupyter-widgets/controls",
          "model_name": "DescriptionStyleModel",
          "model_module_version": "1.5.0",
          "state": {
            "_model_module": "@jupyter-widgets/controls",
            "_model_module_version": "1.5.0",
            "_model_name": "DescriptionStyleModel",
            "_view_count": null,
            "_view_module": "@jupyter-widgets/base",
            "_view_module_version": "1.2.0",
            "_view_name": "StyleView",
            "description_width": ""
          }
        },
        "98320f495c484cf9bc89fb9d67a38752": {
          "model_module": "@jupyter-widgets/controls",
          "model_name": "HBoxModel",
          "model_module_version": "1.5.0",
          "state": {
            "_dom_classes": [],
            "_model_module": "@jupyter-widgets/controls",
            "_model_module_version": "1.5.0",
            "_model_name": "HBoxModel",
            "_view_count": null,
            "_view_module": "@jupyter-widgets/controls",
            "_view_module_version": "1.5.0",
            "_view_name": "HBoxView",
            "box_style": "",
            "children": [
              "IPY_MODEL_75d455d459804a8e8afaca6b7dfb044e",
              "IPY_MODEL_2c33bbb9d44243a999cce09688107b98",
              "IPY_MODEL_c9734ce0ede5478797b0df6f145424c7"
            ],
            "layout": "IPY_MODEL_0e362587f98a4301aa912eebab68de30"
          }
        },
        "75d455d459804a8e8afaca6b7dfb044e": {
          "model_module": "@jupyter-widgets/controls",
          "model_name": "HTMLModel",
          "model_module_version": "1.5.0",
          "state": {
            "_dom_classes": [],
            "_model_module": "@jupyter-widgets/controls",
            "_model_module_version": "1.5.0",
            "_model_name": "HTMLModel",
            "_view_count": null,
            "_view_module": "@jupyter-widgets/controls",
            "_view_module_version": "1.5.0",
            "_view_name": "HTMLView",
            "description": "",
            "description_tooltip": null,
            "layout": "IPY_MODEL_f4361462eead4888a82f2c07a3a2a28a",
            "placeholder": "​",
            "style": "IPY_MODEL_b197880cf4a44a1fa55f43ebc2b6109a",
            "value": "model.safetensors: 100%"
          }
        },
        "2c33bbb9d44243a999cce09688107b98": {
          "model_module": "@jupyter-widgets/controls",
          "model_name": "FloatProgressModel",
          "model_module_version": "1.5.0",
          "state": {
            "_dom_classes": [],
            "_model_module": "@jupyter-widgets/controls",
            "_model_module_version": "1.5.0",
            "_model_name": "FloatProgressModel",
            "_view_count": null,
            "_view_module": "@jupyter-widgets/controls",
            "_view_module_version": "1.5.0",
            "_view_name": "ProgressView",
            "bar_style": "success",
            "description": "",
            "description_tooltip": null,
            "layout": "IPY_MODEL_8b8f4ba0125d4bd89d6589bfa8f561f3",
            "max": 11761587872,
            "min": 0,
            "orientation": "horizontal",
            "style": "IPY_MODEL_12262222810a4e57999f9c0179b56c6c",
            "value": 11761587872
          }
        },
        "c9734ce0ede5478797b0df6f145424c7": {
          "model_module": "@jupyter-widgets/controls",
          "model_name": "HTMLModel",
          "model_module_version": "1.5.0",
          "state": {
            "_dom_classes": [],
            "_model_module": "@jupyter-widgets/controls",
            "_model_module_version": "1.5.0",
            "_model_name": "HTMLModel",
            "_view_count": null,
            "_view_module": "@jupyter-widgets/controls",
            "_view_module_version": "1.5.0",
            "_view_name": "HTMLView",
            "description": "",
            "description_tooltip": null,
            "layout": "IPY_MODEL_63e6302328fd43b0954b8932d4eb6494",
            "placeholder": "​",
            "style": "IPY_MODEL_b45db434f926400fb8cbb8f1b7b55c81",
            "value": " 11.8G/11.8G [04:42&lt;00:00, 37.4MB/s]"
          }
        },
        "0e362587f98a4301aa912eebab68de30": {
          "model_module": "@jupyter-widgets/base",
          "model_name": "LayoutModel",
          "model_module_version": "1.2.0",
          "state": {
            "_model_module": "@jupyter-widgets/base",
            "_model_module_version": "1.2.0",
            "_model_name": "LayoutModel",
            "_view_count": null,
            "_view_module": "@jupyter-widgets/base",
            "_view_module_version": "1.2.0",
            "_view_name": "LayoutView",
            "align_content": null,
            "align_items": null,
            "align_self": null,
            "border": null,
            "bottom": null,
            "display": null,
            "flex": null,
            "flex_flow": null,
            "grid_area": null,
            "grid_auto_columns": null,
            "grid_auto_flow": null,
            "grid_auto_rows": null,
            "grid_column": null,
            "grid_gap": null,
            "grid_row": null,
            "grid_template_areas": null,
            "grid_template_columns": null,
            "grid_template_rows": null,
            "height": null,
            "justify_content": null,
            "justify_items": null,
            "left": null,
            "margin": null,
            "max_height": null,
            "max_width": null,
            "min_height": null,
            "min_width": null,
            "object_fit": null,
            "object_position": null,
            "order": null,
            "overflow": null,
            "overflow_x": null,
            "overflow_y": null,
            "padding": null,
            "right": null,
            "top": null,
            "visibility": null,
            "width": null
          }
        },
        "f4361462eead4888a82f2c07a3a2a28a": {
          "model_module": "@jupyter-widgets/base",
          "model_name": "LayoutModel",
          "model_module_version": "1.2.0",
          "state": {
            "_model_module": "@jupyter-widgets/base",
            "_model_module_version": "1.2.0",
            "_model_name": "LayoutModel",
            "_view_count": null,
            "_view_module": "@jupyter-widgets/base",
            "_view_module_version": "1.2.0",
            "_view_name": "LayoutView",
            "align_content": null,
            "align_items": null,
            "align_self": null,
            "border": null,
            "bottom": null,
            "display": null,
            "flex": null,
            "flex_flow": null,
            "grid_area": null,
            "grid_auto_columns": null,
            "grid_auto_flow": null,
            "grid_auto_rows": null,
            "grid_column": null,
            "grid_gap": null,
            "grid_row": null,
            "grid_template_areas": null,
            "grid_template_columns": null,
            "grid_template_rows": null,
            "height": null,
            "justify_content": null,
            "justify_items": null,
            "left": null,
            "margin": null,
            "max_height": null,
            "max_width": null,
            "min_height": null,
            "min_width": null,
            "object_fit": null,
            "object_position": null,
            "order": null,
            "overflow": null,
            "overflow_x": null,
            "overflow_y": null,
            "padding": null,
            "right": null,
            "top": null,
            "visibility": null,
            "width": null
          }
        },
        "b197880cf4a44a1fa55f43ebc2b6109a": {
          "model_module": "@jupyter-widgets/controls",
          "model_name": "DescriptionStyleModel",
          "model_module_version": "1.5.0",
          "state": {
            "_model_module": "@jupyter-widgets/controls",
            "_model_module_version": "1.5.0",
            "_model_name": "DescriptionStyleModel",
            "_view_count": null,
            "_view_module": "@jupyter-widgets/base",
            "_view_module_version": "1.2.0",
            "_view_name": "StyleView",
            "description_width": ""
          }
        },
        "8b8f4ba0125d4bd89d6589bfa8f561f3": {
          "model_module": "@jupyter-widgets/base",
          "model_name": "LayoutModel",
          "model_module_version": "1.2.0",
          "state": {
            "_model_module": "@jupyter-widgets/base",
            "_model_module_version": "1.2.0",
            "_model_name": "LayoutModel",
            "_view_count": null,
            "_view_module": "@jupyter-widgets/base",
            "_view_module_version": "1.2.0",
            "_view_name": "LayoutView",
            "align_content": null,
            "align_items": null,
            "align_self": null,
            "border": null,
            "bottom": null,
            "display": null,
            "flex": null,
            "flex_flow": null,
            "grid_area": null,
            "grid_auto_columns": null,
            "grid_auto_flow": null,
            "grid_auto_rows": null,
            "grid_column": null,
            "grid_gap": null,
            "grid_row": null,
            "grid_template_areas": null,
            "grid_template_columns": null,
            "grid_template_rows": null,
            "height": null,
            "justify_content": null,
            "justify_items": null,
            "left": null,
            "margin": null,
            "max_height": null,
            "max_width": null,
            "min_height": null,
            "min_width": null,
            "object_fit": null,
            "object_position": null,
            "order": null,
            "overflow": null,
            "overflow_x": null,
            "overflow_y": null,
            "padding": null,
            "right": null,
            "top": null,
            "visibility": null,
            "width": null
          }
        },
        "12262222810a4e57999f9c0179b56c6c": {
          "model_module": "@jupyter-widgets/controls",
          "model_name": "ProgressStyleModel",
          "model_module_version": "1.5.0",
          "state": {
            "_model_module": "@jupyter-widgets/controls",
            "_model_module_version": "1.5.0",
            "_model_name": "ProgressStyleModel",
            "_view_count": null,
            "_view_module": "@jupyter-widgets/base",
            "_view_module_version": "1.2.0",
            "_view_name": "StyleView",
            "bar_color": null,
            "description_width": ""
          }
        },
        "63e6302328fd43b0954b8932d4eb6494": {
          "model_module": "@jupyter-widgets/base",
          "model_name": "LayoutModel",
          "model_module_version": "1.2.0",
          "state": {
            "_model_module": "@jupyter-widgets/base",
            "_model_module_version": "1.2.0",
            "_model_name": "LayoutModel",
            "_view_count": null,
            "_view_module": "@jupyter-widgets/base",
            "_view_module_version": "1.2.0",
            "_view_name": "LayoutView",
            "align_content": null,
            "align_items": null,
            "align_self": null,
            "border": null,
            "bottom": null,
            "display": null,
            "flex": null,
            "flex_flow": null,
            "grid_area": null,
            "grid_auto_columns": null,
            "grid_auto_flow": null,
            "grid_auto_rows": null,
            "grid_column": null,
            "grid_gap": null,
            "grid_row": null,
            "grid_template_areas": null,
            "grid_template_columns": null,
            "grid_template_rows": null,
            "height": null,
            "justify_content": null,
            "justify_items": null,
            "left": null,
            "margin": null,
            "max_height": null,
            "max_width": null,
            "min_height": null,
            "min_width": null,
            "object_fit": null,
            "object_position": null,
            "order": null,
            "overflow": null,
            "overflow_x": null,
            "overflow_y": null,
            "padding": null,
            "right": null,
            "top": null,
            "visibility": null,
            "width": null
          }
        },
        "b45db434f926400fb8cbb8f1b7b55c81": {
          "model_module": "@jupyter-widgets/controls",
          "model_name": "DescriptionStyleModel",
          "model_module_version": "1.5.0",
          "state": {
            "_model_module": "@jupyter-widgets/controls",
            "_model_module_version": "1.5.0",
            "_model_name": "DescriptionStyleModel",
            "_view_count": null,
            "_view_module": "@jupyter-widgets/base",
            "_view_module_version": "1.2.0",
            "_view_name": "StyleView",
            "description_width": ""
          }
        },
        "4fa59377ef2b4285adc089feb1187d8a": {
          "model_module": "@jupyter-widgets/controls",
          "model_name": "HBoxModel",
          "model_module_version": "1.5.0",
          "state": {
            "_dom_classes": [],
            "_model_module": "@jupyter-widgets/controls",
            "_model_module_version": "1.5.0",
            "_model_name": "HBoxModel",
            "_view_count": null,
            "_view_module": "@jupyter-widgets/controls",
            "_view_module_version": "1.5.0",
            "_view_name": "HBoxView",
            "box_style": "",
            "children": [
              "IPY_MODEL_2bbad0b2b9c24afc91aa5a0142639565",
              "IPY_MODEL_57e9ac9c20a149b0846d5b2fd4b6ea72",
              "IPY_MODEL_94998bc18def4fbb9a4a36c8926dc1a7"
            ],
            "layout": "IPY_MODEL_ff8d8d0da4a54a8e9bf6e25798225de5"
          }
        },
        "2bbad0b2b9c24afc91aa5a0142639565": {
          "model_module": "@jupyter-widgets/controls",
          "model_name": "HTMLModel",
          "model_module_version": "1.5.0",
          "state": {
            "_dom_classes": [],
            "_model_module": "@jupyter-widgets/controls",
            "_model_module_version": "1.5.0",
            "_model_name": "HTMLModel",
            "_view_count": null,
            "_view_module": "@jupyter-widgets/controls",
            "_view_module_version": "1.5.0",
            "_view_name": "HTMLView",
            "description": "",
            "description_tooltip": null,
            "layout": "IPY_MODEL_9105d7d534124d75a66c63c6f336a058",
            "placeholder": "​",
            "style": "IPY_MODEL_5f81e981a1324dd2b17982080c0a9b46",
            "value": "generation_config.json: 100%"
          }
        },
        "57e9ac9c20a149b0846d5b2fd4b6ea72": {
          "model_module": "@jupyter-widgets/controls",
          "model_name": "FloatProgressModel",
          "model_module_version": "1.5.0",
          "state": {
            "_dom_classes": [],
            "_model_module": "@jupyter-widgets/controls",
            "_model_module_version": "1.5.0",
            "_model_name": "FloatProgressModel",
            "_view_count": null,
            "_view_module": "@jupyter-widgets/controls",
            "_view_module_version": "1.5.0",
            "_view_name": "ProgressView",
            "bar_style": "success",
            "description": "",
            "description_tooltip": null,
            "layout": "IPY_MODEL_f3e9120cac014409a34fb3300e372057",
            "max": 142,
            "min": 0,
            "orientation": "horizontal",
            "style": "IPY_MODEL_688a2ea29fd14721974ff59d971496b5",
            "value": 142
          }
        },
        "94998bc18def4fbb9a4a36c8926dc1a7": {
          "model_module": "@jupyter-widgets/controls",
          "model_name": "HTMLModel",
          "model_module_version": "1.5.0",
          "state": {
            "_dom_classes": [],
            "_model_module": "@jupyter-widgets/controls",
            "_model_module_version": "1.5.0",
            "_model_name": "HTMLModel",
            "_view_count": null,
            "_view_module": "@jupyter-widgets/controls",
            "_view_module_version": "1.5.0",
            "_view_name": "HTMLView",
            "description": "",
            "description_tooltip": null,
            "layout": "IPY_MODEL_bb2346f4fe9143c8b6ef2b59f205314c",
            "placeholder": "​",
            "style": "IPY_MODEL_56a51c6b4dd04568a2320af6e92f8b29",
            "value": " 142/142 [00:00&lt;00:00, 10.9kB/s]"
          }
        },
        "ff8d8d0da4a54a8e9bf6e25798225de5": {
          "model_module": "@jupyter-widgets/base",
          "model_name": "LayoutModel",
          "model_module_version": "1.2.0",
          "state": {
            "_model_module": "@jupyter-widgets/base",
            "_model_module_version": "1.2.0",
            "_model_name": "LayoutModel",
            "_view_count": null,
            "_view_module": "@jupyter-widgets/base",
            "_view_module_version": "1.2.0",
            "_view_name": "LayoutView",
            "align_content": null,
            "align_items": null,
            "align_self": null,
            "border": null,
            "bottom": null,
            "display": null,
            "flex": null,
            "flex_flow": null,
            "grid_area": null,
            "grid_auto_columns": null,
            "grid_auto_flow": null,
            "grid_auto_rows": null,
            "grid_column": null,
            "grid_gap": null,
            "grid_row": null,
            "grid_template_areas": null,
            "grid_template_columns": null,
            "grid_template_rows": null,
            "height": null,
            "justify_content": null,
            "justify_items": null,
            "left": null,
            "margin": null,
            "max_height": null,
            "max_width": null,
            "min_height": null,
            "min_width": null,
            "object_fit": null,
            "object_position": null,
            "order": null,
            "overflow": null,
            "overflow_x": null,
            "overflow_y": null,
            "padding": null,
            "right": null,
            "top": null,
            "visibility": null,
            "width": null
          }
        },
        "9105d7d534124d75a66c63c6f336a058": {
          "model_module": "@jupyter-widgets/base",
          "model_name": "LayoutModel",
          "model_module_version": "1.2.0",
          "state": {
            "_model_module": "@jupyter-widgets/base",
            "_model_module_version": "1.2.0",
            "_model_name": "LayoutModel",
            "_view_count": null,
            "_view_module": "@jupyter-widgets/base",
            "_view_module_version": "1.2.0",
            "_view_name": "LayoutView",
            "align_content": null,
            "align_items": null,
            "align_self": null,
            "border": null,
            "bottom": null,
            "display": null,
            "flex": null,
            "flex_flow": null,
            "grid_area": null,
            "grid_auto_columns": null,
            "grid_auto_flow": null,
            "grid_auto_rows": null,
            "grid_column": null,
            "grid_gap": null,
            "grid_row": null,
            "grid_template_areas": null,
            "grid_template_columns": null,
            "grid_template_rows": null,
            "height": null,
            "justify_content": null,
            "justify_items": null,
            "left": null,
            "margin": null,
            "max_height": null,
            "max_width": null,
            "min_height": null,
            "min_width": null,
            "object_fit": null,
            "object_position": null,
            "order": null,
            "overflow": null,
            "overflow_x": null,
            "overflow_y": null,
            "padding": null,
            "right": null,
            "top": null,
            "visibility": null,
            "width": null
          }
        },
        "5f81e981a1324dd2b17982080c0a9b46": {
          "model_module": "@jupyter-widgets/controls",
          "model_name": "DescriptionStyleModel",
          "model_module_version": "1.5.0",
          "state": {
            "_model_module": "@jupyter-widgets/controls",
            "_model_module_version": "1.5.0",
            "_model_name": "DescriptionStyleModel",
            "_view_count": null,
            "_view_module": "@jupyter-widgets/base",
            "_view_module_version": "1.2.0",
            "_view_name": "StyleView",
            "description_width": ""
          }
        },
        "f3e9120cac014409a34fb3300e372057": {
          "model_module": "@jupyter-widgets/base",
          "model_name": "LayoutModel",
          "model_module_version": "1.2.0",
          "state": {
            "_model_module": "@jupyter-widgets/base",
            "_model_module_version": "1.2.0",
            "_model_name": "LayoutModel",
            "_view_count": null,
            "_view_module": "@jupyter-widgets/base",
            "_view_module_version": "1.2.0",
            "_view_name": "LayoutView",
            "align_content": null,
            "align_items": null,
            "align_self": null,
            "border": null,
            "bottom": null,
            "display": null,
            "flex": null,
            "flex_flow": null,
            "grid_area": null,
            "grid_auto_columns": null,
            "grid_auto_flow": null,
            "grid_auto_rows": null,
            "grid_column": null,
            "grid_gap": null,
            "grid_row": null,
            "grid_template_areas": null,
            "grid_template_columns": null,
            "grid_template_rows": null,
            "height": null,
            "justify_content": null,
            "justify_items": null,
            "left": null,
            "margin": null,
            "max_height": null,
            "max_width": null,
            "min_height": null,
            "min_width": null,
            "object_fit": null,
            "object_position": null,
            "order": null,
            "overflow": null,
            "overflow_x": null,
            "overflow_y": null,
            "padding": null,
            "right": null,
            "top": null,
            "visibility": null,
            "width": null
          }
        },
        "688a2ea29fd14721974ff59d971496b5": {
          "model_module": "@jupyter-widgets/controls",
          "model_name": "ProgressStyleModel",
          "model_module_version": "1.5.0",
          "state": {
            "_model_module": "@jupyter-widgets/controls",
            "_model_module_version": "1.5.0",
            "_model_name": "ProgressStyleModel",
            "_view_count": null,
            "_view_module": "@jupyter-widgets/base",
            "_view_module_version": "1.2.0",
            "_view_name": "StyleView",
            "bar_color": null,
            "description_width": ""
          }
        },
        "bb2346f4fe9143c8b6ef2b59f205314c": {
          "model_module": "@jupyter-widgets/base",
          "model_name": "LayoutModel",
          "model_module_version": "1.2.0",
          "state": {
            "_model_module": "@jupyter-widgets/base",
            "_model_module_version": "1.2.0",
            "_model_name": "LayoutModel",
            "_view_count": null,
            "_view_module": "@jupyter-widgets/base",
            "_view_module_version": "1.2.0",
            "_view_name": "LayoutView",
            "align_content": null,
            "align_items": null,
            "align_self": null,
            "border": null,
            "bottom": null,
            "display": null,
            "flex": null,
            "flex_flow": null,
            "grid_area": null,
            "grid_auto_columns": null,
            "grid_auto_flow": null,
            "grid_auto_rows": null,
            "grid_column": null,
            "grid_gap": null,
            "grid_row": null,
            "grid_template_areas": null,
            "grid_template_columns": null,
            "grid_template_rows": null,
            "height": null,
            "justify_content": null,
            "justify_items": null,
            "left": null,
            "margin": null,
            "max_height": null,
            "max_width": null,
            "min_height": null,
            "min_width": null,
            "object_fit": null,
            "object_position": null,
            "order": null,
            "overflow": null,
            "overflow_x": null,
            "overflow_y": null,
            "padding": null,
            "right": null,
            "top": null,
            "visibility": null,
            "width": null
          }
        },
        "56a51c6b4dd04568a2320af6e92f8b29": {
          "model_module": "@jupyter-widgets/controls",
          "model_name": "DescriptionStyleModel",
          "model_module_version": "1.5.0",
          "state": {
            "_model_module": "@jupyter-widgets/controls",
            "_model_module_version": "1.5.0",
            "_model_name": "DescriptionStyleModel",
            "_view_count": null,
            "_view_module": "@jupyter-widgets/base",
            "_view_module_version": "1.2.0",
            "_view_name": "StyleView",
            "description_width": ""
          }
        },
        "04f07e3cfd9549a293dae57b02c8d013": {
          "model_module": "@jupyter-widgets/controls",
          "model_name": "HBoxModel",
          "model_module_version": "1.5.0",
          "state": {
            "_dom_classes": [],
            "_model_module": "@jupyter-widgets/controls",
            "_model_module_version": "1.5.0",
            "_model_name": "HBoxModel",
            "_view_count": null,
            "_view_module": "@jupyter-widgets/controls",
            "_view_module_version": "1.5.0",
            "_view_name": "HBoxView",
            "box_style": "",
            "children": [
              "IPY_MODEL_817b31d92f4e462d86742be8b020be8a",
              "IPY_MODEL_7baea7c06df9472cad15a435411c1410",
              "IPY_MODEL_e3cbf33f04df4ccf87d927251b891242"
            ],
            "layout": "IPY_MODEL_5ae6a0a13e2d4fcbb375f5d3d3b5907a"
          }
        },
        "817b31d92f4e462d86742be8b020be8a": {
          "model_module": "@jupyter-widgets/controls",
          "model_name": "HTMLModel",
          "model_module_version": "1.5.0",
          "state": {
            "_dom_classes": [],
            "_model_module": "@jupyter-widgets/controls",
            "_model_module_version": "1.5.0",
            "_model_name": "HTMLModel",
            "_view_count": null,
            "_view_module": "@jupyter-widgets/controls",
            "_view_module_version": "1.5.0",
            "_view_name": "HTMLView",
            "description": "",
            "description_tooltip": null,
            "layout": "IPY_MODEL_e3782005ef4d4267b64c3900f4e6512f",
            "placeholder": "​",
            "style": "IPY_MODEL_1b2089a5c9de467f8010378ecdc5d770",
            "value": "tokenizer_config.json: 100%"
          }
        },
        "7baea7c06df9472cad15a435411c1410": {
          "model_module": "@jupyter-widgets/controls",
          "model_name": "FloatProgressModel",
          "model_module_version": "1.5.0",
          "state": {
            "_dom_classes": [],
            "_model_module": "@jupyter-widgets/controls",
            "_model_module_version": "1.5.0",
            "_model_name": "FloatProgressModel",
            "_view_count": null,
            "_view_module": "@jupyter-widgets/controls",
            "_view_module_version": "1.5.0",
            "_view_name": "ProgressView",
            "bar_style": "success",
            "description": "",
            "description_tooltip": null,
            "layout": "IPY_MODEL_9550efc233e744ba8aa795ce118bb3c5",
            "max": 830,
            "min": 0,
            "orientation": "horizontal",
            "style": "IPY_MODEL_5620795b977f4cd4bd035ed85853857e",
            "value": 830
          }
        },
        "e3cbf33f04df4ccf87d927251b891242": {
          "model_module": "@jupyter-widgets/controls",
          "model_name": "HTMLModel",
          "model_module_version": "1.5.0",
          "state": {
            "_dom_classes": [],
            "_model_module": "@jupyter-widgets/controls",
            "_model_module_version": "1.5.0",
            "_model_name": "HTMLModel",
            "_view_count": null,
            "_view_module": "@jupyter-widgets/controls",
            "_view_module_version": "1.5.0",
            "_view_name": "HTMLView",
            "description": "",
            "description_tooltip": null,
            "layout": "IPY_MODEL_17a79350c79148fab68624a65ce12f51",
            "placeholder": "​",
            "style": "IPY_MODEL_74699e752b33457f991a0518ef8674c1",
            "value": " 830/830 [00:00&lt;00:00, 62.6kB/s]"
          }
        },
        "5ae6a0a13e2d4fcbb375f5d3d3b5907a": {
          "model_module": "@jupyter-widgets/base",
          "model_name": "LayoutModel",
          "model_module_version": "1.2.0",
          "state": {
            "_model_module": "@jupyter-widgets/base",
            "_model_module_version": "1.2.0",
            "_model_name": "LayoutModel",
            "_view_count": null,
            "_view_module": "@jupyter-widgets/base",
            "_view_module_version": "1.2.0",
            "_view_name": "LayoutView",
            "align_content": null,
            "align_items": null,
            "align_self": null,
            "border": null,
            "bottom": null,
            "display": null,
            "flex": null,
            "flex_flow": null,
            "grid_area": null,
            "grid_auto_columns": null,
            "grid_auto_flow": null,
            "grid_auto_rows": null,
            "grid_column": null,
            "grid_gap": null,
            "grid_row": null,
            "grid_template_areas": null,
            "grid_template_columns": null,
            "grid_template_rows": null,
            "height": null,
            "justify_content": null,
            "justify_items": null,
            "left": null,
            "margin": null,
            "max_height": null,
            "max_width": null,
            "min_height": null,
            "min_width": null,
            "object_fit": null,
            "object_position": null,
            "order": null,
            "overflow": null,
            "overflow_x": null,
            "overflow_y": null,
            "padding": null,
            "right": null,
            "top": null,
            "visibility": null,
            "width": null
          }
        },
        "e3782005ef4d4267b64c3900f4e6512f": {
          "model_module": "@jupyter-widgets/base",
          "model_name": "LayoutModel",
          "model_module_version": "1.2.0",
          "state": {
            "_model_module": "@jupyter-widgets/base",
            "_model_module_version": "1.2.0",
            "_model_name": "LayoutModel",
            "_view_count": null,
            "_view_module": "@jupyter-widgets/base",
            "_view_module_version": "1.2.0",
            "_view_name": "LayoutView",
            "align_content": null,
            "align_items": null,
            "align_self": null,
            "border": null,
            "bottom": null,
            "display": null,
            "flex": null,
            "flex_flow": null,
            "grid_area": null,
            "grid_auto_columns": null,
            "grid_auto_flow": null,
            "grid_auto_rows": null,
            "grid_column": null,
            "grid_gap": null,
            "grid_row": null,
            "grid_template_areas": null,
            "grid_template_columns": null,
            "grid_template_rows": null,
            "height": null,
            "justify_content": null,
            "justify_items": null,
            "left": null,
            "margin": null,
            "max_height": null,
            "max_width": null,
            "min_height": null,
            "min_width": null,
            "object_fit": null,
            "object_position": null,
            "order": null,
            "overflow": null,
            "overflow_x": null,
            "overflow_y": null,
            "padding": null,
            "right": null,
            "top": null,
            "visibility": null,
            "width": null
          }
        },
        "1b2089a5c9de467f8010378ecdc5d770": {
          "model_module": "@jupyter-widgets/controls",
          "model_name": "DescriptionStyleModel",
          "model_module_version": "1.5.0",
          "state": {
            "_model_module": "@jupyter-widgets/controls",
            "_model_module_version": "1.5.0",
            "_model_name": "DescriptionStyleModel",
            "_view_count": null,
            "_view_module": "@jupyter-widgets/base",
            "_view_module_version": "1.2.0",
            "_view_name": "StyleView",
            "description_width": ""
          }
        },
        "9550efc233e744ba8aa795ce118bb3c5": {
          "model_module": "@jupyter-widgets/base",
          "model_name": "LayoutModel",
          "model_module_version": "1.2.0",
          "state": {
            "_model_module": "@jupyter-widgets/base",
            "_model_module_version": "1.2.0",
            "_model_name": "LayoutModel",
            "_view_count": null,
            "_view_module": "@jupyter-widgets/base",
            "_view_module_version": "1.2.0",
            "_view_name": "LayoutView",
            "align_content": null,
            "align_items": null,
            "align_self": null,
            "border": null,
            "bottom": null,
            "display": null,
            "flex": null,
            "flex_flow": null,
            "grid_area": null,
            "grid_auto_columns": null,
            "grid_auto_flow": null,
            "grid_auto_rows": null,
            "grid_column": null,
            "grid_gap": null,
            "grid_row": null,
            "grid_template_areas": null,
            "grid_template_columns": null,
            "grid_template_rows": null,
            "height": null,
            "justify_content": null,
            "justify_items": null,
            "left": null,
            "margin": null,
            "max_height": null,
            "max_width": null,
            "min_height": null,
            "min_width": null,
            "object_fit": null,
            "object_position": null,
            "order": null,
            "overflow": null,
            "overflow_x": null,
            "overflow_y": null,
            "padding": null,
            "right": null,
            "top": null,
            "visibility": null,
            "width": null
          }
        },
        "5620795b977f4cd4bd035ed85853857e": {
          "model_module": "@jupyter-widgets/controls",
          "model_name": "ProgressStyleModel",
          "model_module_version": "1.5.0",
          "state": {
            "_model_module": "@jupyter-widgets/controls",
            "_model_module_version": "1.5.0",
            "_model_name": "ProgressStyleModel",
            "_view_count": null,
            "_view_module": "@jupyter-widgets/base",
            "_view_module_version": "1.2.0",
            "_view_name": "StyleView",
            "bar_color": null,
            "description_width": ""
          }
        },
        "17a79350c79148fab68624a65ce12f51": {
          "model_module": "@jupyter-widgets/base",
          "model_name": "LayoutModel",
          "model_module_version": "1.2.0",
          "state": {
            "_model_module": "@jupyter-widgets/base",
            "_model_module_version": "1.2.0",
            "_model_name": "LayoutModel",
            "_view_count": null,
            "_view_module": "@jupyter-widgets/base",
            "_view_module_version": "1.2.0",
            "_view_name": "LayoutView",
            "align_content": null,
            "align_items": null,
            "align_self": null,
            "border": null,
            "bottom": null,
            "display": null,
            "flex": null,
            "flex_flow": null,
            "grid_area": null,
            "grid_auto_columns": null,
            "grid_auto_flow": null,
            "grid_auto_rows": null,
            "grid_column": null,
            "grid_gap": null,
            "grid_row": null,
            "grid_template_areas": null,
            "grid_template_columns": null,
            "grid_template_rows": null,
            "height": null,
            "justify_content": null,
            "justify_items": null,
            "left": null,
            "margin": null,
            "max_height": null,
            "max_width": null,
            "min_height": null,
            "min_width": null,
            "object_fit": null,
            "object_position": null,
            "order": null,
            "overflow": null,
            "overflow_x": null,
            "overflow_y": null,
            "padding": null,
            "right": null,
            "top": null,
            "visibility": null,
            "width": null
          }
        },
        "74699e752b33457f991a0518ef8674c1": {
          "model_module": "@jupyter-widgets/controls",
          "model_name": "DescriptionStyleModel",
          "model_module_version": "1.5.0",
          "state": {
            "_model_module": "@jupyter-widgets/controls",
            "_model_module_version": "1.5.0",
            "_model_name": "DescriptionStyleModel",
            "_view_count": null,
            "_view_module": "@jupyter-widgets/base",
            "_view_module_version": "1.2.0",
            "_view_name": "StyleView",
            "description_width": ""
          }
        },
        "78f0c3b194224ea8ac92b88a8e011ab2": {
          "model_module": "@jupyter-widgets/controls",
          "model_name": "HBoxModel",
          "model_module_version": "1.5.0",
          "state": {
            "_dom_classes": [],
            "_model_module": "@jupyter-widgets/controls",
            "_model_module_version": "1.5.0",
            "_model_name": "HBoxModel",
            "_view_count": null,
            "_view_module": "@jupyter-widgets/controls",
            "_view_module_version": "1.5.0",
            "_view_name": "HBoxView",
            "box_style": "",
            "children": [
              "IPY_MODEL_b342ec815f4443b0903db2a9a881b988",
              "IPY_MODEL_2c1ce2be69c9496f8c5ef4cd628820ac",
              "IPY_MODEL_dcbe8161a3ff43cfa2d524fcc696a766"
            ],
            "layout": "IPY_MODEL_1b785f736e2d4b8b97ca539405ddab0b"
          }
        },
        "b342ec815f4443b0903db2a9a881b988": {
          "model_module": "@jupyter-widgets/controls",
          "model_name": "HTMLModel",
          "model_module_version": "1.5.0",
          "state": {
            "_dom_classes": [],
            "_model_module": "@jupyter-widgets/controls",
            "_model_module_version": "1.5.0",
            "_model_name": "HTMLModel",
            "_view_count": null,
            "_view_module": "@jupyter-widgets/controls",
            "_view_module_version": "1.5.0",
            "_view_name": "HTMLView",
            "description": "",
            "description_tooltip": null,
            "layout": "IPY_MODEL_592c2c8952be4988b91ca5435583aaa4",
            "placeholder": "​",
            "style": "IPY_MODEL_e7924d0403e44f2ead56dbdd1c680446",
            "value": "spiece.model: 100%"
          }
        },
        "2c1ce2be69c9496f8c5ef4cd628820ac": {
          "model_module": "@jupyter-widgets/controls",
          "model_name": "FloatProgressModel",
          "model_module_version": "1.5.0",
          "state": {
            "_dom_classes": [],
            "_model_module": "@jupyter-widgets/controls",
            "_model_module_version": "1.5.0",
            "_model_name": "FloatProgressModel",
            "_view_count": null,
            "_view_module": "@jupyter-widgets/controls",
            "_view_module_version": "1.5.0",
            "_view_name": "ProgressView",
            "bar_style": "success",
            "description": "",
            "description_tooltip": null,
            "layout": "IPY_MODEL_1344bf1ce13848d696bdb39f697b33d9",
            "max": 4427844,
            "min": 0,
            "orientation": "horizontal",
            "style": "IPY_MODEL_b1d6d7972fef442bba84b00e7c12bad0",
            "value": 4427844
          }
        },
        "dcbe8161a3ff43cfa2d524fcc696a766": {
          "model_module": "@jupyter-widgets/controls",
          "model_name": "HTMLModel",
          "model_module_version": "1.5.0",
          "state": {
            "_dom_classes": [],
            "_model_module": "@jupyter-widgets/controls",
            "_model_module_version": "1.5.0",
            "_model_name": "HTMLModel",
            "_view_count": null,
            "_view_module": "@jupyter-widgets/controls",
            "_view_module_version": "1.5.0",
            "_view_name": "HTMLView",
            "description": "",
            "description_tooltip": null,
            "layout": "IPY_MODEL_78a401ba5a9c4096a4bc7db88789001f",
            "placeholder": "​",
            "style": "IPY_MODEL_816e9e4e1197485aa4e231b8e50ad714",
            "value": " 4.43M/4.43M [00:00&lt;00:00, 9.50MB/s]"
          }
        },
        "1b785f736e2d4b8b97ca539405ddab0b": {
          "model_module": "@jupyter-widgets/base",
          "model_name": "LayoutModel",
          "model_module_version": "1.2.0",
          "state": {
            "_model_module": "@jupyter-widgets/base",
            "_model_module_version": "1.2.0",
            "_model_name": "LayoutModel",
            "_view_count": null,
            "_view_module": "@jupyter-widgets/base",
            "_view_module_version": "1.2.0",
            "_view_name": "LayoutView",
            "align_content": null,
            "align_items": null,
            "align_self": null,
            "border": null,
            "bottom": null,
            "display": null,
            "flex": null,
            "flex_flow": null,
            "grid_area": null,
            "grid_auto_columns": null,
            "grid_auto_flow": null,
            "grid_auto_rows": null,
            "grid_column": null,
            "grid_gap": null,
            "grid_row": null,
            "grid_template_areas": null,
            "grid_template_columns": null,
            "grid_template_rows": null,
            "height": null,
            "justify_content": null,
            "justify_items": null,
            "left": null,
            "margin": null,
            "max_height": null,
            "max_width": null,
            "min_height": null,
            "min_width": null,
            "object_fit": null,
            "object_position": null,
            "order": null,
            "overflow": null,
            "overflow_x": null,
            "overflow_y": null,
            "padding": null,
            "right": null,
            "top": null,
            "visibility": null,
            "width": null
          }
        },
        "592c2c8952be4988b91ca5435583aaa4": {
          "model_module": "@jupyter-widgets/base",
          "model_name": "LayoutModel",
          "model_module_version": "1.2.0",
          "state": {
            "_model_module": "@jupyter-widgets/base",
            "_model_module_version": "1.2.0",
            "_model_name": "LayoutModel",
            "_view_count": null,
            "_view_module": "@jupyter-widgets/base",
            "_view_module_version": "1.2.0",
            "_view_name": "LayoutView",
            "align_content": null,
            "align_items": null,
            "align_self": null,
            "border": null,
            "bottom": null,
            "display": null,
            "flex": null,
            "flex_flow": null,
            "grid_area": null,
            "grid_auto_columns": null,
            "grid_auto_flow": null,
            "grid_auto_rows": null,
            "grid_column": null,
            "grid_gap": null,
            "grid_row": null,
            "grid_template_areas": null,
            "grid_template_columns": null,
            "grid_template_rows": null,
            "height": null,
            "justify_content": null,
            "justify_items": null,
            "left": null,
            "margin": null,
            "max_height": null,
            "max_width": null,
            "min_height": null,
            "min_width": null,
            "object_fit": null,
            "object_position": null,
            "order": null,
            "overflow": null,
            "overflow_x": null,
            "overflow_y": null,
            "padding": null,
            "right": null,
            "top": null,
            "visibility": null,
            "width": null
          }
        },
        "e7924d0403e44f2ead56dbdd1c680446": {
          "model_module": "@jupyter-widgets/controls",
          "model_name": "DescriptionStyleModel",
          "model_module_version": "1.5.0",
          "state": {
            "_model_module": "@jupyter-widgets/controls",
            "_model_module_version": "1.5.0",
            "_model_name": "DescriptionStyleModel",
            "_view_count": null,
            "_view_module": "@jupyter-widgets/base",
            "_view_module_version": "1.2.0",
            "_view_name": "StyleView",
            "description_width": ""
          }
        },
        "1344bf1ce13848d696bdb39f697b33d9": {
          "model_module": "@jupyter-widgets/base",
          "model_name": "LayoutModel",
          "model_module_version": "1.2.0",
          "state": {
            "_model_module": "@jupyter-widgets/base",
            "_model_module_version": "1.2.0",
            "_model_name": "LayoutModel",
            "_view_count": null,
            "_view_module": "@jupyter-widgets/base",
            "_view_module_version": "1.2.0",
            "_view_name": "LayoutView",
            "align_content": null,
            "align_items": null,
            "align_self": null,
            "border": null,
            "bottom": null,
            "display": null,
            "flex": null,
            "flex_flow": null,
            "grid_area": null,
            "grid_auto_columns": null,
            "grid_auto_flow": null,
            "grid_auto_rows": null,
            "grid_column": null,
            "grid_gap": null,
            "grid_row": null,
            "grid_template_areas": null,
            "grid_template_columns": null,
            "grid_template_rows": null,
            "height": null,
            "justify_content": null,
            "justify_items": null,
            "left": null,
            "margin": null,
            "max_height": null,
            "max_width": null,
            "min_height": null,
            "min_width": null,
            "object_fit": null,
            "object_position": null,
            "order": null,
            "overflow": null,
            "overflow_x": null,
            "overflow_y": null,
            "padding": null,
            "right": null,
            "top": null,
            "visibility": null,
            "width": null
          }
        },
        "b1d6d7972fef442bba84b00e7c12bad0": {
          "model_module": "@jupyter-widgets/controls",
          "model_name": "ProgressStyleModel",
          "model_module_version": "1.5.0",
          "state": {
            "_model_module": "@jupyter-widgets/controls",
            "_model_module_version": "1.5.0",
            "_model_name": "ProgressStyleModel",
            "_view_count": null,
            "_view_module": "@jupyter-widgets/base",
            "_view_module_version": "1.2.0",
            "_view_name": "StyleView",
            "bar_color": null,
            "description_width": ""
          }
        },
        "78a401ba5a9c4096a4bc7db88789001f": {
          "model_module": "@jupyter-widgets/base",
          "model_name": "LayoutModel",
          "model_module_version": "1.2.0",
          "state": {
            "_model_module": "@jupyter-widgets/base",
            "_model_module_version": "1.2.0",
            "_model_name": "LayoutModel",
            "_view_count": null,
            "_view_module": "@jupyter-widgets/base",
            "_view_module_version": "1.2.0",
            "_view_name": "LayoutView",
            "align_content": null,
            "align_items": null,
            "align_self": null,
            "border": null,
            "bottom": null,
            "display": null,
            "flex": null,
            "flex_flow": null,
            "grid_area": null,
            "grid_auto_columns": null,
            "grid_auto_flow": null,
            "grid_auto_rows": null,
            "grid_column": null,
            "grid_gap": null,
            "grid_row": null,
            "grid_template_areas": null,
            "grid_template_columns": null,
            "grid_template_rows": null,
            "height": null,
            "justify_content": null,
            "justify_items": null,
            "left": null,
            "margin": null,
            "max_height": null,
            "max_width": null,
            "min_height": null,
            "min_width": null,
            "object_fit": null,
            "object_position": null,
            "order": null,
            "overflow": null,
            "overflow_x": null,
            "overflow_y": null,
            "padding": null,
            "right": null,
            "top": null,
            "visibility": null,
            "width": null
          }
        },
        "816e9e4e1197485aa4e231b8e50ad714": {
          "model_module": "@jupyter-widgets/controls",
          "model_name": "DescriptionStyleModel",
          "model_module_version": "1.5.0",
          "state": {
            "_model_module": "@jupyter-widgets/controls",
            "_model_module_version": "1.5.0",
            "_model_name": "DescriptionStyleModel",
            "_view_count": null,
            "_view_module": "@jupyter-widgets/base",
            "_view_module_version": "1.2.0",
            "_view_name": "StyleView",
            "description_width": ""
          }
        },
        "7b977fc814804fb18e6ed3f2ec159973": {
          "model_module": "@jupyter-widgets/controls",
          "model_name": "HBoxModel",
          "model_module_version": "1.5.0",
          "state": {
            "_dom_classes": [],
            "_model_module": "@jupyter-widgets/controls",
            "_model_module_version": "1.5.0",
            "_model_name": "HBoxModel",
            "_view_count": null,
            "_view_module": "@jupyter-widgets/controls",
            "_view_module_version": "1.5.0",
            "_view_name": "HBoxView",
            "box_style": "",
            "children": [
              "IPY_MODEL_8698f4ba5d8a4daba920e2d0765e6798",
              "IPY_MODEL_0d0a6c24419e4a0b9d1b5f4c479867d2",
              "IPY_MODEL_be7db82cd0f7415aa9cbceca96b6ca01"
            ],
            "layout": "IPY_MODEL_63ac293af50940bf905958bf736da007"
          }
        },
        "8698f4ba5d8a4daba920e2d0765e6798": {
          "model_module": "@jupyter-widgets/controls",
          "model_name": "HTMLModel",
          "model_module_version": "1.5.0",
          "state": {
            "_dom_classes": [],
            "_model_module": "@jupyter-widgets/controls",
            "_model_module_version": "1.5.0",
            "_model_name": "HTMLModel",
            "_view_count": null,
            "_view_module": "@jupyter-widgets/controls",
            "_view_module_version": "1.5.0",
            "_view_name": "HTMLView",
            "description": "",
            "description_tooltip": null,
            "layout": "IPY_MODEL_096824a9199843d484ff24ed72f3125c",
            "placeholder": "​",
            "style": "IPY_MODEL_94bd1e17e51a4200827e39c0ff68fd49",
            "value": "added_tokens.json: 100%"
          }
        },
        "0d0a6c24419e4a0b9d1b5f4c479867d2": {
          "model_module": "@jupyter-widgets/controls",
          "model_name": "FloatProgressModel",
          "model_module_version": "1.5.0",
          "state": {
            "_dom_classes": [],
            "_model_module": "@jupyter-widgets/controls",
            "_model_module_version": "1.5.0",
            "_model_name": "FloatProgressModel",
            "_view_count": null,
            "_view_module": "@jupyter-widgets/controls",
            "_view_module_version": "1.5.0",
            "_view_name": "ProgressView",
            "bar_style": "success",
            "description": "",
            "description_tooltip": null,
            "layout": "IPY_MODEL_360f856d16514879b23ea59e142e1463",
            "max": 4,
            "min": 0,
            "orientation": "horizontal",
            "style": "IPY_MODEL_df160a36d5e64915b7dfa214f178ea85",
            "value": 4
          }
        },
        "be7db82cd0f7415aa9cbceca96b6ca01": {
          "model_module": "@jupyter-widgets/controls",
          "model_name": "HTMLModel",
          "model_module_version": "1.5.0",
          "state": {
            "_dom_classes": [],
            "_model_module": "@jupyter-widgets/controls",
            "_model_module_version": "1.5.0",
            "_model_name": "HTMLModel",
            "_view_count": null,
            "_view_module": "@jupyter-widgets/controls",
            "_view_module_version": "1.5.0",
            "_view_name": "HTMLView",
            "description": "",
            "description_tooltip": null,
            "layout": "IPY_MODEL_f518c5aa5481451da1034a4a972ffb56",
            "placeholder": "​",
            "style": "IPY_MODEL_0a195097b5274c69a5c155d3bb9304a3",
            "value": " 4.00/4.00 [00:00&lt;00:00, 219B/s]"
          }
        },
        "63ac293af50940bf905958bf736da007": {
          "model_module": "@jupyter-widgets/base",
          "model_name": "LayoutModel",
          "model_module_version": "1.2.0",
          "state": {
            "_model_module": "@jupyter-widgets/base",
            "_model_module_version": "1.2.0",
            "_model_name": "LayoutModel",
            "_view_count": null,
            "_view_module": "@jupyter-widgets/base",
            "_view_module_version": "1.2.0",
            "_view_name": "LayoutView",
            "align_content": null,
            "align_items": null,
            "align_self": null,
            "border": null,
            "bottom": null,
            "display": null,
            "flex": null,
            "flex_flow": null,
            "grid_area": null,
            "grid_auto_columns": null,
            "grid_auto_flow": null,
            "grid_auto_rows": null,
            "grid_column": null,
            "grid_gap": null,
            "grid_row": null,
            "grid_template_areas": null,
            "grid_template_columns": null,
            "grid_template_rows": null,
            "height": null,
            "justify_content": null,
            "justify_items": null,
            "left": null,
            "margin": null,
            "max_height": null,
            "max_width": null,
            "min_height": null,
            "min_width": null,
            "object_fit": null,
            "object_position": null,
            "order": null,
            "overflow": null,
            "overflow_x": null,
            "overflow_y": null,
            "padding": null,
            "right": null,
            "top": null,
            "visibility": null,
            "width": null
          }
        },
        "096824a9199843d484ff24ed72f3125c": {
          "model_module": "@jupyter-widgets/base",
          "model_name": "LayoutModel",
          "model_module_version": "1.2.0",
          "state": {
            "_model_module": "@jupyter-widgets/base",
            "_model_module_version": "1.2.0",
            "_model_name": "LayoutModel",
            "_view_count": null,
            "_view_module": "@jupyter-widgets/base",
            "_view_module_version": "1.2.0",
            "_view_name": "LayoutView",
            "align_content": null,
            "align_items": null,
            "align_self": null,
            "border": null,
            "bottom": null,
            "display": null,
            "flex": null,
            "flex_flow": null,
            "grid_area": null,
            "grid_auto_columns": null,
            "grid_auto_flow": null,
            "grid_auto_rows": null,
            "grid_column": null,
            "grid_gap": null,
            "grid_row": null,
            "grid_template_areas": null,
            "grid_template_columns": null,
            "grid_template_rows": null,
            "height": null,
            "justify_content": null,
            "justify_items": null,
            "left": null,
            "margin": null,
            "max_height": null,
            "max_width": null,
            "min_height": null,
            "min_width": null,
            "object_fit": null,
            "object_position": null,
            "order": null,
            "overflow": null,
            "overflow_x": null,
            "overflow_y": null,
            "padding": null,
            "right": null,
            "top": null,
            "visibility": null,
            "width": null
          }
        },
        "94bd1e17e51a4200827e39c0ff68fd49": {
          "model_module": "@jupyter-widgets/controls",
          "model_name": "DescriptionStyleModel",
          "model_module_version": "1.5.0",
          "state": {
            "_model_module": "@jupyter-widgets/controls",
            "_model_module_version": "1.5.0",
            "_model_name": "DescriptionStyleModel",
            "_view_count": null,
            "_view_module": "@jupyter-widgets/base",
            "_view_module_version": "1.2.0",
            "_view_name": "StyleView",
            "description_width": ""
          }
        },
        "360f856d16514879b23ea59e142e1463": {
          "model_module": "@jupyter-widgets/base",
          "model_name": "LayoutModel",
          "model_module_version": "1.2.0",
          "state": {
            "_model_module": "@jupyter-widgets/base",
            "_model_module_version": "1.2.0",
            "_model_name": "LayoutModel",
            "_view_count": null,
            "_view_module": "@jupyter-widgets/base",
            "_view_module_version": "1.2.0",
            "_view_name": "LayoutView",
            "align_content": null,
            "align_items": null,
            "align_self": null,
            "border": null,
            "bottom": null,
            "display": null,
            "flex": null,
            "flex_flow": null,
            "grid_area": null,
            "grid_auto_columns": null,
            "grid_auto_flow": null,
            "grid_auto_rows": null,
            "grid_column": null,
            "grid_gap": null,
            "grid_row": null,
            "grid_template_areas": null,
            "grid_template_columns": null,
            "grid_template_rows": null,
            "height": null,
            "justify_content": null,
            "justify_items": null,
            "left": null,
            "margin": null,
            "max_height": null,
            "max_width": null,
            "min_height": null,
            "min_width": null,
            "object_fit": null,
            "object_position": null,
            "order": null,
            "overflow": null,
            "overflow_x": null,
            "overflow_y": null,
            "padding": null,
            "right": null,
            "top": null,
            "visibility": null,
            "width": null
          }
        },
        "df160a36d5e64915b7dfa214f178ea85": {
          "model_module": "@jupyter-widgets/controls",
          "model_name": "ProgressStyleModel",
          "model_module_version": "1.5.0",
          "state": {
            "_model_module": "@jupyter-widgets/controls",
            "_model_module_version": "1.5.0",
            "_model_name": "ProgressStyleModel",
            "_view_count": null,
            "_view_module": "@jupyter-widgets/base",
            "_view_module_version": "1.2.0",
            "_view_name": "StyleView",
            "bar_color": null,
            "description_width": ""
          }
        },
        "f518c5aa5481451da1034a4a972ffb56": {
          "model_module": "@jupyter-widgets/base",
          "model_name": "LayoutModel",
          "model_module_version": "1.2.0",
          "state": {
            "_model_module": "@jupyter-widgets/base",
            "_model_module_version": "1.2.0",
            "_model_name": "LayoutModel",
            "_view_count": null,
            "_view_module": "@jupyter-widgets/base",
            "_view_module_version": "1.2.0",
            "_view_name": "LayoutView",
            "align_content": null,
            "align_items": null,
            "align_self": null,
            "border": null,
            "bottom": null,
            "display": null,
            "flex": null,
            "flex_flow": null,
            "grid_area": null,
            "grid_auto_columns": null,
            "grid_auto_flow": null,
            "grid_auto_rows": null,
            "grid_column": null,
            "grid_gap": null,
            "grid_row": null,
            "grid_template_areas": null,
            "grid_template_columns": null,
            "grid_template_rows": null,
            "height": null,
            "justify_content": null,
            "justify_items": null,
            "left": null,
            "margin": null,
            "max_height": null,
            "max_width": null,
            "min_height": null,
            "min_width": null,
            "object_fit": null,
            "object_position": null,
            "order": null,
            "overflow": null,
            "overflow_x": null,
            "overflow_y": null,
            "padding": null,
            "right": null,
            "top": null,
            "visibility": null,
            "width": null
          }
        },
        "0a195097b5274c69a5c155d3bb9304a3": {
          "model_module": "@jupyter-widgets/controls",
          "model_name": "DescriptionStyleModel",
          "model_module_version": "1.5.0",
          "state": {
            "_model_module": "@jupyter-widgets/controls",
            "_model_module_version": "1.5.0",
            "_model_name": "DescriptionStyleModel",
            "_view_count": null,
            "_view_module": "@jupyter-widgets/base",
            "_view_module_version": "1.2.0",
            "_view_name": "StyleView",
            "description_width": ""
          }
        },
        "11122ecffd984806b47ff8b68c0366b8": {
          "model_module": "@jupyter-widgets/controls",
          "model_name": "HBoxModel",
          "model_module_version": "1.5.0",
          "state": {
            "_dom_classes": [],
            "_model_module": "@jupyter-widgets/controls",
            "_model_module_version": "1.5.0",
            "_model_name": "HBoxModel",
            "_view_count": null,
            "_view_module": "@jupyter-widgets/controls",
            "_view_module_version": "1.5.0",
            "_view_name": "HBoxView",
            "box_style": "",
            "children": [
              "IPY_MODEL_783954dc38904579aca45cc6ec4023f4",
              "IPY_MODEL_16d636e787754ba0b7e17a0722acd890",
              "IPY_MODEL_791a2d4bec554a97b64363f8f3df5c9c"
            ],
            "layout": "IPY_MODEL_552bd7fb61f24f8da4a96ad906118fc8"
          }
        },
        "783954dc38904579aca45cc6ec4023f4": {
          "model_module": "@jupyter-widgets/controls",
          "model_name": "HTMLModel",
          "model_module_version": "1.5.0",
          "state": {
            "_dom_classes": [],
            "_model_module": "@jupyter-widgets/controls",
            "_model_module_version": "1.5.0",
            "_model_name": "HTMLModel",
            "_view_count": null,
            "_view_module": "@jupyter-widgets/controls",
            "_view_module_version": "1.5.0",
            "_view_name": "HTMLView",
            "description": "",
            "description_tooltip": null,
            "layout": "IPY_MODEL_49a2911ee94244b9bd3b07c70c5b2ac6",
            "placeholder": "​",
            "style": "IPY_MODEL_1ae83416fb0c4851a09f3f04bd017086",
            "value": "special_tokens_map.json: 100%"
          }
        },
        "16d636e787754ba0b7e17a0722acd890": {
          "model_module": "@jupyter-widgets/controls",
          "model_name": "FloatProgressModel",
          "model_module_version": "1.5.0",
          "state": {
            "_dom_classes": [],
            "_model_module": "@jupyter-widgets/controls",
            "_model_module_version": "1.5.0",
            "_model_name": "FloatProgressModel",
            "_view_count": null,
            "_view_module": "@jupyter-widgets/controls",
            "_view_module_version": "1.5.0",
            "_view_name": "ProgressView",
            "bar_style": "success",
            "description": "",
            "description_tooltip": null,
            "layout": "IPY_MODEL_83f0435fdfe4442f9d01429cb94ca6e3",
            "max": 414,
            "min": 0,
            "orientation": "horizontal",
            "style": "IPY_MODEL_e1b5a08cfec44d8ca06bc1516d594cb0",
            "value": 414
          }
        },
        "791a2d4bec554a97b64363f8f3df5c9c": {
          "model_module": "@jupyter-widgets/controls",
          "model_name": "HTMLModel",
          "model_module_version": "1.5.0",
          "state": {
            "_dom_classes": [],
            "_model_module": "@jupyter-widgets/controls",
            "_model_module_version": "1.5.0",
            "_model_name": "HTMLModel",
            "_view_count": null,
            "_view_module": "@jupyter-widgets/controls",
            "_view_module_version": "1.5.0",
            "_view_name": "HTMLView",
            "description": "",
            "description_tooltip": null,
            "layout": "IPY_MODEL_1e9b9f3d1b07429ca7aab2f46a483c07",
            "placeholder": "​",
            "style": "IPY_MODEL_fb0da134aa3c4d05973c8daf9abe9a3f",
            "value": " 414/414 [00:00&lt;00:00, 18.9kB/s]"
          }
        },
        "552bd7fb61f24f8da4a96ad906118fc8": {
          "model_module": "@jupyter-widgets/base",
          "model_name": "LayoutModel",
          "model_module_version": "1.2.0",
          "state": {
            "_model_module": "@jupyter-widgets/base",
            "_model_module_version": "1.2.0",
            "_model_name": "LayoutModel",
            "_view_count": null,
            "_view_module": "@jupyter-widgets/base",
            "_view_module_version": "1.2.0",
            "_view_name": "LayoutView",
            "align_content": null,
            "align_items": null,
            "align_self": null,
            "border": null,
            "bottom": null,
            "display": null,
            "flex": null,
            "flex_flow": null,
            "grid_area": null,
            "grid_auto_columns": null,
            "grid_auto_flow": null,
            "grid_auto_rows": null,
            "grid_column": null,
            "grid_gap": null,
            "grid_row": null,
            "grid_template_areas": null,
            "grid_template_columns": null,
            "grid_template_rows": null,
            "height": null,
            "justify_content": null,
            "justify_items": null,
            "left": null,
            "margin": null,
            "max_height": null,
            "max_width": null,
            "min_height": null,
            "min_width": null,
            "object_fit": null,
            "object_position": null,
            "order": null,
            "overflow": null,
            "overflow_x": null,
            "overflow_y": null,
            "padding": null,
            "right": null,
            "top": null,
            "visibility": null,
            "width": null
          }
        },
        "49a2911ee94244b9bd3b07c70c5b2ac6": {
          "model_module": "@jupyter-widgets/base",
          "model_name": "LayoutModel",
          "model_module_version": "1.2.0",
          "state": {
            "_model_module": "@jupyter-widgets/base",
            "_model_module_version": "1.2.0",
            "_model_name": "LayoutModel",
            "_view_count": null,
            "_view_module": "@jupyter-widgets/base",
            "_view_module_version": "1.2.0",
            "_view_name": "LayoutView",
            "align_content": null,
            "align_items": null,
            "align_self": null,
            "border": null,
            "bottom": null,
            "display": null,
            "flex": null,
            "flex_flow": null,
            "grid_area": null,
            "grid_auto_columns": null,
            "grid_auto_flow": null,
            "grid_auto_rows": null,
            "grid_column": null,
            "grid_gap": null,
            "grid_row": null,
            "grid_template_areas": null,
            "grid_template_columns": null,
            "grid_template_rows": null,
            "height": null,
            "justify_content": null,
            "justify_items": null,
            "left": null,
            "margin": null,
            "max_height": null,
            "max_width": null,
            "min_height": null,
            "min_width": null,
            "object_fit": null,
            "object_position": null,
            "order": null,
            "overflow": null,
            "overflow_x": null,
            "overflow_y": null,
            "padding": null,
            "right": null,
            "top": null,
            "visibility": null,
            "width": null
          }
        },
        "1ae83416fb0c4851a09f3f04bd017086": {
          "model_module": "@jupyter-widgets/controls",
          "model_name": "DescriptionStyleModel",
          "model_module_version": "1.5.0",
          "state": {
            "_model_module": "@jupyter-widgets/controls",
            "_model_module_version": "1.5.0",
            "_model_name": "DescriptionStyleModel",
            "_view_count": null,
            "_view_module": "@jupyter-widgets/base",
            "_view_module_version": "1.2.0",
            "_view_name": "StyleView",
            "description_width": ""
          }
        },
        "83f0435fdfe4442f9d01429cb94ca6e3": {
          "model_module": "@jupyter-widgets/base",
          "model_name": "LayoutModel",
          "model_module_version": "1.2.0",
          "state": {
            "_model_module": "@jupyter-widgets/base",
            "_model_module_version": "1.2.0",
            "_model_name": "LayoutModel",
            "_view_count": null,
            "_view_module": "@jupyter-widgets/base",
            "_view_module_version": "1.2.0",
            "_view_name": "LayoutView",
            "align_content": null,
            "align_items": null,
            "align_self": null,
            "border": null,
            "bottom": null,
            "display": null,
            "flex": null,
            "flex_flow": null,
            "grid_area": null,
            "grid_auto_columns": null,
            "grid_auto_flow": null,
            "grid_auto_rows": null,
            "grid_column": null,
            "grid_gap": null,
            "grid_row": null,
            "grid_template_areas": null,
            "grid_template_columns": null,
            "grid_template_rows": null,
            "height": null,
            "justify_content": null,
            "justify_items": null,
            "left": null,
            "margin": null,
            "max_height": null,
            "max_width": null,
            "min_height": null,
            "min_width": null,
            "object_fit": null,
            "object_position": null,
            "order": null,
            "overflow": null,
            "overflow_x": null,
            "overflow_y": null,
            "padding": null,
            "right": null,
            "top": null,
            "visibility": null,
            "width": null
          }
        },
        "e1b5a08cfec44d8ca06bc1516d594cb0": {
          "model_module": "@jupyter-widgets/controls",
          "model_name": "ProgressStyleModel",
          "model_module_version": "1.5.0",
          "state": {
            "_model_module": "@jupyter-widgets/controls",
            "_model_module_version": "1.5.0",
            "_model_name": "ProgressStyleModel",
            "_view_count": null,
            "_view_module": "@jupyter-widgets/base",
            "_view_module_version": "1.2.0",
            "_view_name": "StyleView",
            "bar_color": null,
            "description_width": ""
          }
        },
        "1e9b9f3d1b07429ca7aab2f46a483c07": {
          "model_module": "@jupyter-widgets/base",
          "model_name": "LayoutModel",
          "model_module_version": "1.2.0",
          "state": {
            "_model_module": "@jupyter-widgets/base",
            "_model_module_version": "1.2.0",
            "_model_name": "LayoutModel",
            "_view_count": null,
            "_view_module": "@jupyter-widgets/base",
            "_view_module_version": "1.2.0",
            "_view_name": "LayoutView",
            "align_content": null,
            "align_items": null,
            "align_self": null,
            "border": null,
            "bottom": null,
            "display": null,
            "flex": null,
            "flex_flow": null,
            "grid_area": null,
            "grid_auto_columns": null,
            "grid_auto_flow": null,
            "grid_auto_rows": null,
            "grid_column": null,
            "grid_gap": null,
            "grid_row": null,
            "grid_template_areas": null,
            "grid_template_columns": null,
            "grid_template_rows": null,
            "height": null,
            "justify_content": null,
            "justify_items": null,
            "left": null,
            "margin": null,
            "max_height": null,
            "max_width": null,
            "min_height": null,
            "min_width": null,
            "object_fit": null,
            "object_position": null,
            "order": null,
            "overflow": null,
            "overflow_x": null,
            "overflow_y": null,
            "padding": null,
            "right": null,
            "top": null,
            "visibility": null,
            "width": null
          }
        },
        "fb0da134aa3c4d05973c8daf9abe9a3f": {
          "model_module": "@jupyter-widgets/controls",
          "model_name": "DescriptionStyleModel",
          "model_module_version": "1.5.0",
          "state": {
            "_model_module": "@jupyter-widgets/controls",
            "_model_module_version": "1.5.0",
            "_model_name": "DescriptionStyleModel",
            "_view_count": null,
            "_view_module": "@jupyter-widgets/base",
            "_view_module_version": "1.2.0",
            "_view_name": "StyleView",
            "description_width": ""
          }
        },
        "d23f138eaf49405a98ba7c239f5bdfc8": {
          "model_module": "@jupyter-widgets/controls",
          "model_name": "HBoxModel",
          "model_module_version": "1.5.0",
          "state": {
            "_dom_classes": [],
            "_model_module": "@jupyter-widgets/controls",
            "_model_module_version": "1.5.0",
            "_model_name": "HBoxModel",
            "_view_count": null,
            "_view_module": "@jupyter-widgets/controls",
            "_view_module_version": "1.5.0",
            "_view_name": "HBoxView",
            "box_style": "",
            "children": [
              "IPY_MODEL_9ad007df3a654c9b94dd9b4f9209762a",
              "IPY_MODEL_027d483d1f5d4aafa40b94508cd896d2",
              "IPY_MODEL_4d04fcfaf8454233b7338f5c7d0d87bf"
            ],
            "layout": "IPY_MODEL_a6d446bf46a147449b82d1d6143b539e"
          }
        },
        "9ad007df3a654c9b94dd9b4f9209762a": {
          "model_module": "@jupyter-widgets/controls",
          "model_name": "HTMLModel",
          "model_module_version": "1.5.0",
          "state": {
            "_dom_classes": [],
            "_model_module": "@jupyter-widgets/controls",
            "_model_module_version": "1.5.0",
            "_model_name": "HTMLModel",
            "_view_count": null,
            "_view_module": "@jupyter-widgets/controls",
            "_view_module_version": "1.5.0",
            "_view_name": "HTMLView",
            "description": "",
            "description_tooltip": null,
            "layout": "IPY_MODEL_73dd07e88d8b4266a395b1656a8a456c",
            "placeholder": "​",
            "style": "IPY_MODEL_807422be38354a0894a8dac7e0b31c07",
            "value": "tokenizer.json: 100%"
          }
        },
        "027d483d1f5d4aafa40b94508cd896d2": {
          "model_module": "@jupyter-widgets/controls",
          "model_name": "FloatProgressModel",
          "model_module_version": "1.5.0",
          "state": {
            "_dom_classes": [],
            "_model_module": "@jupyter-widgets/controls",
            "_model_module_version": "1.5.0",
            "_model_name": "FloatProgressModel",
            "_view_count": null,
            "_view_module": "@jupyter-widgets/controls",
            "_view_module_version": "1.5.0",
            "_view_name": "ProgressView",
            "bar_style": "success",
            "description": "",
            "description_tooltip": null,
            "layout": "IPY_MODEL_121fceb1beec4040ac4748ff22ddffda",
            "max": 16629031,
            "min": 0,
            "orientation": "horizontal",
            "style": "IPY_MODEL_3f92f50bc3894a8889fec20c6e585f1e",
            "value": 16629031
          }
        },
        "4d04fcfaf8454233b7338f5c7d0d87bf": {
          "model_module": "@jupyter-widgets/controls",
          "model_name": "HTMLModel",
          "model_module_version": "1.5.0",
          "state": {
            "_dom_classes": [],
            "_model_module": "@jupyter-widgets/controls",
            "_model_module_version": "1.5.0",
            "_model_name": "HTMLModel",
            "_view_count": null,
            "_view_module": "@jupyter-widgets/controls",
            "_view_module_version": "1.5.0",
            "_view_name": "HTMLView",
            "description": "",
            "description_tooltip": null,
            "layout": "IPY_MODEL_567ae29cdf5c44698e0cfe62dfbbe18a",
            "placeholder": "​",
            "style": "IPY_MODEL_a0d4a4ced9754420a5dbd87b34ad0c1e",
            "value": " 16.6M/16.6M [00:04&lt;00:00, 4.01MB/s]"
          }
        },
        "a6d446bf46a147449b82d1d6143b539e": {
          "model_module": "@jupyter-widgets/base",
          "model_name": "LayoutModel",
          "model_module_version": "1.2.0",
          "state": {
            "_model_module": "@jupyter-widgets/base",
            "_model_module_version": "1.2.0",
            "_model_name": "LayoutModel",
            "_view_count": null,
            "_view_module": "@jupyter-widgets/base",
            "_view_module_version": "1.2.0",
            "_view_name": "LayoutView",
            "align_content": null,
            "align_items": null,
            "align_self": null,
            "border": null,
            "bottom": null,
            "display": null,
            "flex": null,
            "flex_flow": null,
            "grid_area": null,
            "grid_auto_columns": null,
            "grid_auto_flow": null,
            "grid_auto_rows": null,
            "grid_column": null,
            "grid_gap": null,
            "grid_row": null,
            "grid_template_areas": null,
            "grid_template_columns": null,
            "grid_template_rows": null,
            "height": null,
            "justify_content": null,
            "justify_items": null,
            "left": null,
            "margin": null,
            "max_height": null,
            "max_width": null,
            "min_height": null,
            "min_width": null,
            "object_fit": null,
            "object_position": null,
            "order": null,
            "overflow": null,
            "overflow_x": null,
            "overflow_y": null,
            "padding": null,
            "right": null,
            "top": null,
            "visibility": null,
            "width": null
          }
        },
        "73dd07e88d8b4266a395b1656a8a456c": {
          "model_module": "@jupyter-widgets/base",
          "model_name": "LayoutModel",
          "model_module_version": "1.2.0",
          "state": {
            "_model_module": "@jupyter-widgets/base",
            "_model_module_version": "1.2.0",
            "_model_name": "LayoutModel",
            "_view_count": null,
            "_view_module": "@jupyter-widgets/base",
            "_view_module_version": "1.2.0",
            "_view_name": "LayoutView",
            "align_content": null,
            "align_items": null,
            "align_self": null,
            "border": null,
            "bottom": null,
            "display": null,
            "flex": null,
            "flex_flow": null,
            "grid_area": null,
            "grid_auto_columns": null,
            "grid_auto_flow": null,
            "grid_auto_rows": null,
            "grid_column": null,
            "grid_gap": null,
            "grid_row": null,
            "grid_template_areas": null,
            "grid_template_columns": null,
            "grid_template_rows": null,
            "height": null,
            "justify_content": null,
            "justify_items": null,
            "left": null,
            "margin": null,
            "max_height": null,
            "max_width": null,
            "min_height": null,
            "min_width": null,
            "object_fit": null,
            "object_position": null,
            "order": null,
            "overflow": null,
            "overflow_x": null,
            "overflow_y": null,
            "padding": null,
            "right": null,
            "top": null,
            "visibility": null,
            "width": null
          }
        },
        "807422be38354a0894a8dac7e0b31c07": {
          "model_module": "@jupyter-widgets/controls",
          "model_name": "DescriptionStyleModel",
          "model_module_version": "1.5.0",
          "state": {
            "_model_module": "@jupyter-widgets/controls",
            "_model_module_version": "1.5.0",
            "_model_name": "DescriptionStyleModel",
            "_view_count": null,
            "_view_module": "@jupyter-widgets/base",
            "_view_module_version": "1.2.0",
            "_view_name": "StyleView",
            "description_width": ""
          }
        },
        "121fceb1beec4040ac4748ff22ddffda": {
          "model_module": "@jupyter-widgets/base",
          "model_name": "LayoutModel",
          "model_module_version": "1.2.0",
          "state": {
            "_model_module": "@jupyter-widgets/base",
            "_model_module_version": "1.2.0",
            "_model_name": "LayoutModel",
            "_view_count": null,
            "_view_module": "@jupyter-widgets/base",
            "_view_module_version": "1.2.0",
            "_view_name": "LayoutView",
            "align_content": null,
            "align_items": null,
            "align_self": null,
            "border": null,
            "bottom": null,
            "display": null,
            "flex": null,
            "flex_flow": null,
            "grid_area": null,
            "grid_auto_columns": null,
            "grid_auto_flow": null,
            "grid_auto_rows": null,
            "grid_column": null,
            "grid_gap": null,
            "grid_row": null,
            "grid_template_areas": null,
            "grid_template_columns": null,
            "grid_template_rows": null,
            "height": null,
            "justify_content": null,
            "justify_items": null,
            "left": null,
            "margin": null,
            "max_height": null,
            "max_width": null,
            "min_height": null,
            "min_width": null,
            "object_fit": null,
            "object_position": null,
            "order": null,
            "overflow": null,
            "overflow_x": null,
            "overflow_y": null,
            "padding": null,
            "right": null,
            "top": null,
            "visibility": null,
            "width": null
          }
        },
        "3f92f50bc3894a8889fec20c6e585f1e": {
          "model_module": "@jupyter-widgets/controls",
          "model_name": "ProgressStyleModel",
          "model_module_version": "1.5.0",
          "state": {
            "_model_module": "@jupyter-widgets/controls",
            "_model_module_version": "1.5.0",
            "_model_name": "ProgressStyleModel",
            "_view_count": null,
            "_view_module": "@jupyter-widgets/base",
            "_view_module_version": "1.2.0",
            "_view_name": "StyleView",
            "bar_color": null,
            "description_width": ""
          }
        },
        "567ae29cdf5c44698e0cfe62dfbbe18a": {
          "model_module": "@jupyter-widgets/base",
          "model_name": "LayoutModel",
          "model_module_version": "1.2.0",
          "state": {
            "_model_module": "@jupyter-widgets/base",
            "_model_module_version": "1.2.0",
            "_model_name": "LayoutModel",
            "_view_count": null,
            "_view_module": "@jupyter-widgets/base",
            "_view_module_version": "1.2.0",
            "_view_name": "LayoutView",
            "align_content": null,
            "align_items": null,
            "align_self": null,
            "border": null,
            "bottom": null,
            "display": null,
            "flex": null,
            "flex_flow": null,
            "grid_area": null,
            "grid_auto_columns": null,
            "grid_auto_flow": null,
            "grid_auto_rows": null,
            "grid_column": null,
            "grid_gap": null,
            "grid_row": null,
            "grid_template_areas": null,
            "grid_template_columns": null,
            "grid_template_rows": null,
            "height": null,
            "justify_content": null,
            "justify_items": null,
            "left": null,
            "margin": null,
            "max_height": null,
            "max_width": null,
            "min_height": null,
            "min_width": null,
            "object_fit": null,
            "object_position": null,
            "order": null,
            "overflow": null,
            "overflow_x": null,
            "overflow_y": null,
            "padding": null,
            "right": null,
            "top": null,
            "visibility": null,
            "width": null
          }
        },
        "a0d4a4ced9754420a5dbd87b34ad0c1e": {
          "model_module": "@jupyter-widgets/controls",
          "model_name": "DescriptionStyleModel",
          "model_module_version": "1.5.0",
          "state": {
            "_model_module": "@jupyter-widgets/controls",
            "_model_module_version": "1.5.0",
            "_model_name": "DescriptionStyleModel",
            "_view_count": null,
            "_view_module": "@jupyter-widgets/base",
            "_view_module_version": "1.2.0",
            "_view_name": "StyleView",
            "description_width": ""
          }
        }
      }
    }
  },
  "cells": [
    {
      "cell_type": "markdown",
      "metadata": {
        "id": "view-in-github",
        "colab_type": "text"
      },
      "source": [
        "<a href=\"https://colab.research.google.com/github/Pranay-Kumar-007/Neural-machine-translation-using-transformers/blob/main/Project_madlad_Finalized.ipynb\" target=\"_parent\"><img src=\"https://colab.research.google.com/assets/colab-badge.svg\" alt=\"Open In Colab\"/></a>"
      ]
    },
    {
      "cell_type": "code",
      "execution_count": null,
      "metadata": {
        "colab": {
          "base_uri": "https://localhost:8080/"
        },
        "id": "UAb-k_APxMDJ",
        "outputId": "3225cd4c-5491-4860-91a4-c74962742c2d"
      },
      "outputs": [
        {
          "output_type": "stream",
          "name": "stdout",
          "text": [
            "Requirement already satisfied: transformers in /usr/local/lib/python3.10/dist-packages (4.44.2)\n",
            "Requirement already satisfied: accelerate in /usr/local/lib/python3.10/dist-packages (0.34.2)\n",
            "Requirement already satisfied: sentencepiece in /usr/local/lib/python3.10/dist-packages (0.1.99)\n",
            "Requirement already satisfied: filelock in /usr/local/lib/python3.10/dist-packages (from transformers) (3.16.0)\n",
            "Requirement already satisfied: huggingface-hub<1.0,>=0.23.2 in /usr/local/lib/python3.10/dist-packages (from transformers) (0.24.7)\n",
            "Requirement already satisfied: numpy>=1.17 in /usr/local/lib/python3.10/dist-packages (from transformers) (1.26.4)\n",
            "Requirement already satisfied: packaging>=20.0 in /usr/local/lib/python3.10/dist-packages (from transformers) (24.1)\n",
            "Requirement already satisfied: pyyaml>=5.1 in /usr/local/lib/python3.10/dist-packages (from transformers) (6.0.2)\n",
            "Requirement already satisfied: regex!=2019.12.17 in /usr/local/lib/python3.10/dist-packages (from transformers) (2024.5.15)\n",
            "Requirement already satisfied: requests in /usr/local/lib/python3.10/dist-packages (from transformers) (2.32.3)\n",
            "Requirement already satisfied: safetensors>=0.4.1 in /usr/local/lib/python3.10/dist-packages (from transformers) (0.4.5)\n",
            "Requirement already satisfied: tokenizers<0.20,>=0.19 in /usr/local/lib/python3.10/dist-packages (from transformers) (0.19.1)\n",
            "Requirement already satisfied: tqdm>=4.27 in /usr/local/lib/python3.10/dist-packages (from transformers) (4.66.5)\n",
            "Requirement already satisfied: psutil in /usr/local/lib/python3.10/dist-packages (from accelerate) (5.9.5)\n",
            "Requirement already satisfied: torch>=1.10.0 in /usr/local/lib/python3.10/dist-packages (from accelerate) (2.4.0+cu121)\n",
            "Requirement already satisfied: fsspec>=2023.5.0 in /usr/local/lib/python3.10/dist-packages (from huggingface-hub<1.0,>=0.23.2->transformers) (2024.6.1)\n",
            "Requirement already satisfied: typing-extensions>=3.7.4.3 in /usr/local/lib/python3.10/dist-packages (from huggingface-hub<1.0,>=0.23.2->transformers) (4.12.2)\n",
            "Requirement already satisfied: sympy in /usr/local/lib/python3.10/dist-packages (from torch>=1.10.0->accelerate) (1.13.2)\n",
            "Requirement already satisfied: networkx in /usr/local/lib/python3.10/dist-packages (from torch>=1.10.0->accelerate) (3.3)\n",
            "Requirement already satisfied: jinja2 in /usr/local/lib/python3.10/dist-packages (from torch>=1.10.0->accelerate) (3.1.4)\n",
            "Requirement already satisfied: charset-normalizer<4,>=2 in /usr/local/lib/python3.10/dist-packages (from requests->transformers) (3.3.2)\n",
            "Requirement already satisfied: idna<4,>=2.5 in /usr/local/lib/python3.10/dist-packages (from requests->transformers) (3.8)\n",
            "Requirement already satisfied: urllib3<3,>=1.21.1 in /usr/local/lib/python3.10/dist-packages (from requests->transformers) (2.0.7)\n",
            "Requirement already satisfied: certifi>=2017.4.17 in /usr/local/lib/python3.10/dist-packages (from requests->transformers) (2024.8.30)\n",
            "Requirement already satisfied: MarkupSafe>=2.0 in /usr/local/lib/python3.10/dist-packages (from jinja2->torch>=1.10.0->accelerate) (2.1.5)\n",
            "Requirement already satisfied: mpmath<1.4,>=1.1.0 in /usr/local/lib/python3.10/dist-packages (from sympy->torch>=1.10.0->accelerate) (1.3.0)\n"
          ]
        }
      ],
      "source": [
        "!pip install transformers accelerate sentencepiece"
      ]
    },
    {
      "cell_type": "code",
      "source": [
        "import torch\n",
        "from torch.utils.data import random_split"
      ],
      "metadata": {
        "id": "AQUnHjq7xbv_"
      },
      "execution_count": null,
      "outputs": []
    },
    {
      "cell_type": "code",
      "source": [
        "from transformers import T5ForConditionalGeneration, T5Tokenizer\n",
        "\n",
        "model_name = 'jbochi/madlad400-3b-mt'\n",
        "model = T5ForConditionalGeneration.from_pretrained(model_name, device_map=\"auto\")\n",
        "tokenizer = T5Tokenizer.from_pretrained(model_name)"
      ],
      "metadata": {
        "id": "TiThwXD7yDkP",
        "colab": {
          "base_uri": "https://localhost:8080/",
          "height": 402,
          "referenced_widgets": [
            "df203823cbf24d93a2ced62116c0802a",
            "9fd01adc5f2240418d98c2617bcb9a03",
            "a8e2d2d0fad44654a30ff68df623ca92",
            "3f83029191b34e6c836c05809c8b3978",
            "6b1c15d4080c40dd8f62d0bd908ffd00",
            "1c07482f410f49078186b8a9451da05a",
            "09672fdf57fc46b58d2fc93414e28f11",
            "17a2cac4721a4afb9ce5eec474f48b51",
            "8a3f60d8b11444e582df2369a470abcf",
            "fbe081df07264a3bb361c430998dc751",
            "ab75756e467a472e8cb60894b9912a11",
            "98320f495c484cf9bc89fb9d67a38752",
            "75d455d459804a8e8afaca6b7dfb044e",
            "2c33bbb9d44243a999cce09688107b98",
            "c9734ce0ede5478797b0df6f145424c7",
            "0e362587f98a4301aa912eebab68de30",
            "f4361462eead4888a82f2c07a3a2a28a",
            "b197880cf4a44a1fa55f43ebc2b6109a",
            "8b8f4ba0125d4bd89d6589bfa8f561f3",
            "12262222810a4e57999f9c0179b56c6c",
            "63e6302328fd43b0954b8932d4eb6494",
            "b45db434f926400fb8cbb8f1b7b55c81",
            "4fa59377ef2b4285adc089feb1187d8a",
            "2bbad0b2b9c24afc91aa5a0142639565",
            "57e9ac9c20a149b0846d5b2fd4b6ea72",
            "94998bc18def4fbb9a4a36c8926dc1a7",
            "ff8d8d0da4a54a8e9bf6e25798225de5",
            "9105d7d534124d75a66c63c6f336a058",
            "5f81e981a1324dd2b17982080c0a9b46",
            "f3e9120cac014409a34fb3300e372057",
            "688a2ea29fd14721974ff59d971496b5",
            "bb2346f4fe9143c8b6ef2b59f205314c",
            "56a51c6b4dd04568a2320af6e92f8b29",
            "04f07e3cfd9549a293dae57b02c8d013",
            "817b31d92f4e462d86742be8b020be8a",
            "7baea7c06df9472cad15a435411c1410",
            "e3cbf33f04df4ccf87d927251b891242",
            "5ae6a0a13e2d4fcbb375f5d3d3b5907a",
            "e3782005ef4d4267b64c3900f4e6512f",
            "1b2089a5c9de467f8010378ecdc5d770",
            "9550efc233e744ba8aa795ce118bb3c5",
            "5620795b977f4cd4bd035ed85853857e",
            "17a79350c79148fab68624a65ce12f51",
            "74699e752b33457f991a0518ef8674c1",
            "78f0c3b194224ea8ac92b88a8e011ab2",
            "b342ec815f4443b0903db2a9a881b988",
            "2c1ce2be69c9496f8c5ef4cd628820ac",
            "dcbe8161a3ff43cfa2d524fcc696a766",
            "1b785f736e2d4b8b97ca539405ddab0b",
            "592c2c8952be4988b91ca5435583aaa4",
            "e7924d0403e44f2ead56dbdd1c680446",
            "1344bf1ce13848d696bdb39f697b33d9",
            "b1d6d7972fef442bba84b00e7c12bad0",
            "78a401ba5a9c4096a4bc7db88789001f",
            "816e9e4e1197485aa4e231b8e50ad714",
            "7b977fc814804fb18e6ed3f2ec159973",
            "8698f4ba5d8a4daba920e2d0765e6798",
            "0d0a6c24419e4a0b9d1b5f4c479867d2",
            "be7db82cd0f7415aa9cbceca96b6ca01",
            "63ac293af50940bf905958bf736da007",
            "096824a9199843d484ff24ed72f3125c",
            "94bd1e17e51a4200827e39c0ff68fd49",
            "360f856d16514879b23ea59e142e1463",
            "df160a36d5e64915b7dfa214f178ea85",
            "f518c5aa5481451da1034a4a972ffb56",
            "0a195097b5274c69a5c155d3bb9304a3",
            "11122ecffd984806b47ff8b68c0366b8",
            "783954dc38904579aca45cc6ec4023f4",
            "16d636e787754ba0b7e17a0722acd890",
            "791a2d4bec554a97b64363f8f3df5c9c",
            "552bd7fb61f24f8da4a96ad906118fc8",
            "49a2911ee94244b9bd3b07c70c5b2ac6",
            "1ae83416fb0c4851a09f3f04bd017086",
            "83f0435fdfe4442f9d01429cb94ca6e3",
            "e1b5a08cfec44d8ca06bc1516d594cb0",
            "1e9b9f3d1b07429ca7aab2f46a483c07",
            "fb0da134aa3c4d05973c8daf9abe9a3f",
            "d23f138eaf49405a98ba7c239f5bdfc8",
            "9ad007df3a654c9b94dd9b4f9209762a",
            "027d483d1f5d4aafa40b94508cd896d2",
            "4d04fcfaf8454233b7338f5c7d0d87bf",
            "a6d446bf46a147449b82d1d6143b539e",
            "73dd07e88d8b4266a395b1656a8a456c",
            "807422be38354a0894a8dac7e0b31c07",
            "121fceb1beec4040ac4748ff22ddffda",
            "3f92f50bc3894a8889fec20c6e585f1e",
            "567ae29cdf5c44698e0cfe62dfbbe18a",
            "a0d4a4ced9754420a5dbd87b34ad0c1e"
          ]
        },
        "outputId": "b096e64a-89ec-4b26-b3a4-efd44f83118d"
      },
      "execution_count": null,
      "outputs": [
        {
          "output_type": "stream",
          "name": "stderr",
          "text": [
            "/usr/local/lib/python3.10/dist-packages/huggingface_hub/utils/_token.py:89: UserWarning: \n",
            "The secret `HF_TOKEN` does not exist in your Colab secrets.\n",
            "To authenticate with the Hugging Face Hub, create a token in your settings tab (https://huggingface.co/settings/tokens), set it as secret in your Google Colab and restart your session.\n",
            "You will be able to reuse this secret in all of your notebooks.\n",
            "Please note that authentication is recommended but still optional to access public models or datasets.\n",
            "  warnings.warn(\n"
          ]
        },
        {
          "output_type": "display_data",
          "data": {
            "text/plain": [
              "config.json:   0%|          | 0.00/749 [00:00<?, ?B/s]"
            ],
            "application/vnd.jupyter.widget-view+json": {
              "version_major": 2,
              "version_minor": 0,
              "model_id": "df203823cbf24d93a2ced62116c0802a"
            }
          },
          "metadata": {}
        },
        {
          "output_type": "display_data",
          "data": {
            "text/plain": [
              "model.safetensors:   0%|          | 0.00/11.8G [00:00<?, ?B/s]"
            ],
            "application/vnd.jupyter.widget-view+json": {
              "version_major": 2,
              "version_minor": 0,
              "model_id": "98320f495c484cf9bc89fb9d67a38752"
            }
          },
          "metadata": {}
        },
        {
          "output_type": "display_data",
          "data": {
            "text/plain": [
              "generation_config.json:   0%|          | 0.00/142 [00:00<?, ?B/s]"
            ],
            "application/vnd.jupyter.widget-view+json": {
              "version_major": 2,
              "version_minor": 0,
              "model_id": "4fa59377ef2b4285adc089feb1187d8a"
            }
          },
          "metadata": {}
        },
        {
          "output_type": "display_data",
          "data": {
            "text/plain": [
              "tokenizer_config.json:   0%|          | 0.00/830 [00:00<?, ?B/s]"
            ],
            "application/vnd.jupyter.widget-view+json": {
              "version_major": 2,
              "version_minor": 0,
              "model_id": "04f07e3cfd9549a293dae57b02c8d013"
            }
          },
          "metadata": {}
        },
        {
          "output_type": "display_data",
          "data": {
            "text/plain": [
              "spiece.model:   0%|          | 0.00/4.43M [00:00<?, ?B/s]"
            ],
            "application/vnd.jupyter.widget-view+json": {
              "version_major": 2,
              "version_minor": 0,
              "model_id": "78f0c3b194224ea8ac92b88a8e011ab2"
            }
          },
          "metadata": {}
        },
        {
          "output_type": "display_data",
          "data": {
            "text/plain": [
              "added_tokens.json:   0%|          | 0.00/4.00 [00:00<?, ?B/s]"
            ],
            "application/vnd.jupyter.widget-view+json": {
              "version_major": 2,
              "version_minor": 0,
              "model_id": "7b977fc814804fb18e6ed3f2ec159973"
            }
          },
          "metadata": {}
        },
        {
          "output_type": "display_data",
          "data": {
            "text/plain": [
              "special_tokens_map.json:   0%|          | 0.00/414 [00:00<?, ?B/s]"
            ],
            "application/vnd.jupyter.widget-view+json": {
              "version_major": 2,
              "version_minor": 0,
              "model_id": "11122ecffd984806b47ff8b68c0366b8"
            }
          },
          "metadata": {}
        },
        {
          "output_type": "display_data",
          "data": {
            "text/plain": [
              "tokenizer.json:   0%|          | 0.00/16.6M [00:00<?, ?B/s]"
            ],
            "application/vnd.jupyter.widget-view+json": {
              "version_major": 2,
              "version_minor": 0,
              "model_id": "d23f138eaf49405a98ba7c239f5bdfc8"
            }
          },
          "metadata": {}
        }
      ]
    },
    {
      "cell_type": "code",
      "source": [
        "from google.colab import drive\n",
        "drive.mount('/content/drive')"
      ],
      "metadata": {
        "colab": {
          "base_uri": "https://localhost:8080/"
        },
        "id": "VxOS52f1QLXZ",
        "outputId": "0d91b671-0990-440a-8481-b05495125336"
      },
      "execution_count": null,
      "outputs": [
        {
          "output_type": "stream",
          "name": "stdout",
          "text": [
            "Mounted at /content/drive\n"
          ]
        }
      ]
    },
    {
      "cell_type": "code",
      "source": [
        "data = []\n",
        "with open(\"/content/drive/MyDrive/IITB.en-hi.en\") as f2, open(\"/content/drive/MyDrive/IITB.en-hi.hi\") as f1:\n",
        "    for src, tgt in zip(f1, f2):\n",
        "      data.append(\n",
        "          {\n",
        "              \"translation\":{\n",
        "                  \"inputs\": src.strip(),\n",
        "                  \"targets\": tgt.strip()\n",
        "              }\n",
        "          }\n",
        "      )\n",
        "print(f'total size of data is {len(data)}')"
      ],
      "metadata": {
        "colab": {
          "base_uri": "https://localhost:8080/"
        },
        "id": "3ijtt1szRS9d",
        "outputId": "3c6bda75-7f6d-495b-fc14-0fbc05c94944"
      },
      "execution_count": null,
      "outputs": [
        {
          "output_type": "stream",
          "name": "stdout",
          "text": [
            "total size of data is 1659083\n"
          ]
        }
      ]
    },
    {
      "cell_type": "code",
      "source": [
        "def data_collator(features: list):\n",
        "    labels = [f[\"translation\"][\"targets\"] if \"translation\" in f else \"\" for f in features]\n",
        "    inputs = [f[\"translation\"][\"inputs\"] if \"translation\" in f else \"\" for f in features]\n",
        "\n",
        "    model_inputs = tokenizer(inputs, max_length=32, padding='max_length', truncation=True, return_tensors=\"pt\")\n",
        "    with tokenizer.as_target_tokenizer():\n",
        "        labels = tokenizer(labels, max_length=32, padding='max_length', truncation=True, return_tensors=\"pt\")\n",
        "\n",
        "    model_inputs[\"labels\"] = labels[\"input_ids\"]\n",
        "    return model_inputs"
      ],
      "metadata": {
        "id": "0r7ubuVLR3bW"
      },
      "execution_count": null,
      "outputs": []
    },
    {
      "cell_type": "code",
      "source": [
        "text = \"<2en> में छोटा बच्चा हूँ\"\n",
        "input_ids = tokenizer(text, return_tensors=\"pt\").input_ids.to(model.device)\n",
        "outputs = model.generate(input_ids=input_ids)\n",
        "\n",
        "tokenizer.decode(outputs[0], skip_special_tokens=True)"
      ],
      "metadata": {
        "colab": {
          "base_uri": "https://localhost:8080/",
          "height": 92
        },
        "id": "LVdc3mQAHl7d",
        "outputId": "f7d58913-6a82-4cfe-b0c0-df04b395b2e4"
      },
      "execution_count": null,
      "outputs": [
        {
          "output_type": "stream",
          "name": "stderr",
          "text": [
            "/usr/local/lib/python3.10/dist-packages/transformers/generation/utils.py:1258: UserWarning: Using the model-agnostic default `max_length` (=20) to control the generation length. We recommend setting `max_new_tokens` to control the maximum length of the generation.\n",
            "  warnings.warn(\n"
          ]
        },
        {
          "output_type": "execute_result",
          "data": {
            "text/plain": [
              "\"I'm a little kid.\""
            ],
            "application/vnd.google.colaboratory.intrinsic+json": {
              "type": "string"
            }
          },
          "metadata": {},
          "execution_count": 8
        }
      ]
    },
    {
      "cell_type": "code",
      "source": [
        "import random\n",
        "random.seed(69)"
      ],
      "metadata": {
        "id": "qn7Dd7Q77jXM"
      },
      "execution_count": null,
      "outputs": []
    },
    {
      "cell_type": "code",
      "source": [
        "data_test = []\n",
        "for i in range(100):\n",
        "  data_test.append(data[random.randint(1695,10000)])"
      ],
      "metadata": {
        "id": "OyokVnbCNB68"
      },
      "execution_count": null,
      "outputs": []
    },
    {
      "cell_type": "code",
      "source": [
        "len(data_test)"
      ],
      "metadata": {
        "colab": {
          "base_uri": "https://localhost:8080/"
        },
        "id": "fP5fauULR9aU",
        "outputId": "8897bd6d-41fb-4dec-d501-dcc097d77ad1"
      },
      "execution_count": null,
      "outputs": [
        {
          "output_type": "execute_result",
          "data": {
            "text/plain": [
              "100"
            ]
          },
          "metadata": {},
          "execution_count": 11
        }
      ]
    },
    {
      "cell_type": "code",
      "source": [
        "def data_collector(features: list):\n",
        "    labels = [f[\"translation\"][\"targets\"] if \"translation\" in f else \"\" for f in features]\n",
        "    inputs = [f[\"translation\"][\"inputs\"] if \"translation\" in f else \"\" for f in features]\n",
        "    return inputs, labels"
      ],
      "metadata": {
        "id": "dZvjqBYdSCHb"
      },
      "execution_count": null,
      "outputs": []
    },
    {
      "cell_type": "code",
      "source": [
        "hindi_test,english_test = data_collector(data_test)"
      ],
      "metadata": {
        "id": "J3aKWvfTSLNZ"
      },
      "execution_count": null,
      "outputs": []
    },
    {
      "cell_type": "code",
      "source": [
        "english_test[0]"
      ],
      "metadata": {
        "colab": {
          "base_uri": "https://localhost:8080/",
          "height": 36
        },
        "id": "6eovvVxPSlOL",
        "outputId": "7b1e695a-5f4b-4ccf-ea91-e70b387fb32a"
      },
      "execution_count": null,
      "outputs": [
        {
          "output_type": "execute_result",
          "data": {
            "text/plain": [
              "'Place cards on to the Tableau to form poker hands'"
            ],
            "application/vnd.google.colaboratory.intrinsic+json": {
              "type": "string"
            }
          },
          "metadata": {},
          "execution_count": 14
        }
      ]
    },
    {
      "cell_type": "code",
      "source": [
        "english_list=[]\n",
        "for i in data:\n",
        "  english_list.append(i['translation']['targets'])"
      ],
      "metadata": {
        "id": "3vP8sWvoCIkT"
      },
      "execution_count": null,
      "outputs": []
    },
    {
      "cell_type": "code",
      "source": [
        "graph_list=[]\n",
        "english_graph_list=['Co _ mment',\n",
        " 'Gaps',\n",
        " 'Italic',\n",
        " 'Deal another round',\n",
        " '_ Accessible',\n",
        " 'Wins:',\n",
        " 'No description',\n",
        " 'Easthaven',\n",
        " 'Saving',\n",
        " 'Available new pluginviews',\n",
        " 'Remove the kings',\n",
        " 'You are searching for a king.',\n",
        " 'Seahaven',\n",
        " 'Thirteen',\n",
        " 'Treize',\n",
        " 'Stock left: ~ a',\n",
        " 'Plugins']"
      ],
      "metadata": {
        "id": "MehIQomtCoNd"
      },
      "execution_count": null,
      "outputs": []
    },
    {
      "cell_type": "code",
      "source": [
        "for i in english_graph_list:\n",
        "  graph_list.append(english_list.index(i))"
      ],
      "metadata": {
        "id": "C1UmqQuuCfS-"
      },
      "execution_count": null,
      "outputs": []
    },
    {
      "cell_type": "code",
      "source": [
        "hindi_list=[]\n",
        "for i in data:\n",
        "  hindi_list.append(i['translation']['inputs'])"
      ],
      "metadata": {
        "id": "ZbDFlcJLEAIl"
      },
      "execution_count": null,
      "outputs": []
    },
    {
      "cell_type": "code",
      "source": [
        "hindi_graph_list=[]\n",
        "for i in range(len(graph_list)):\n",
        "  hindi_graph_list.append(hindi_list[graph_list[i]])"
      ],
      "metadata": {
        "id": "-_eLzuM6EOJv"
      },
      "execution_count": null,
      "outputs": []
    },
    {
      "cell_type": "code",
      "source": [
        "hindi_graph_list_copy=hindi_graph_list\n",
        "hindi_graph_list_copy[0]=\"टिप्पणी (_ m)\""
      ],
      "metadata": {
        "id": "SsMmH17UJ2NB"
      },
      "execution_count": null,
      "outputs": []
    },
    {
      "cell_type": "code",
      "source": [
        "hindi_graph_list"
      ],
      "metadata": {
        "colab": {
          "base_uri": "https://localhost:8080/"
        },
        "id": "ujKKOi1YEp8t",
        "outputId": "e0098b8b-be11-47f5-b3f2-efdc18781129"
      },
      "execution_count": null,
      "outputs": [
        {
          "output_type": "execute_result",
          "data": {
            "text/plain": [
              "['टिप्पणी (_ m)',\n",
              " 'गैप',\n",
              " 'इटालिक',\n",
              " 'एक दौर और चलें',\n",
              " 'पहुंचनीय',\n",
              " 'जीताः',\n",
              " 'कोई विवरण नहीं',\n",
              " 'ईस्टहैवन',\n",
              " 'सहेज रहे हैं',\n",
              " 'नई pluginviews उपलब्ध है',\n",
              " 'बादशाह मिटाएँ',\n",
              " 'एक बादशाह को आप ढूंढ रहे हैं.',\n",
              " 'सीहैवन',\n",
              " 'तेरह',\n",
              " 'ट्रेज',\n",
              " 'बचा मालः ~ a',\n",
              " 'प्लगइन्स']"
            ]
          },
          "metadata": {},
          "execution_count": 21
        }
      ]
    },
    {
      "cell_type": "code",
      "source": [
        "for i in range(len(hindi_graph_list)):\n",
        "  hindi_graph_list[i] = \"<2en> \"+ hindi_graph_list[i]\n",
        "encoded_graph_list = []\n",
        "for i in hindi_graph_list:\n",
        "  encoded_graph_list.append(tokenizer(i,return_tensors=\"pt\").input_ids.to(model.device))\n",
        "decoded_graph_list = []\n",
        "for i in range(len(encoded_graph_list)):\n",
        "  generated_tokens = model.generate(input_ids=encoded_graph_list[i])\n",
        "  decoded_graph_list.append(tokenizer.batch_decode(generated_tokens, skip_special_tokens=True))"
      ],
      "metadata": {
        "id": "gf9La9Z-WLrD"
      },
      "execution_count": null,
      "outputs": []
    },
    {
      "cell_type": "code",
      "source": [
        "for i in range(len(hindi_test)):\n",
        "  hindi_test[i] = \"<2en> \"+ hindi_test[i]"
      ],
      "metadata": {
        "id": "WsilNvkNY5Xj"
      },
      "execution_count": null,
      "outputs": []
    },
    {
      "cell_type": "code",
      "source": [
        "hindi_test[0]"
      ],
      "metadata": {
        "colab": {
          "base_uri": "https://localhost:8080/",
          "height": 36
        },
        "id": "B4I_CGKkY5dJ",
        "outputId": "e968b837-c502-4207-eefc-bab6712bb297"
      },
      "execution_count": null,
      "outputs": [
        {
          "output_type": "execute_result",
          "data": {
            "text/plain": [
              "'<2en> पोकर हाथ तैयार करने हेतु ताश के पत्तों को जमाएँ'"
            ],
            "application/vnd.google.colaboratory.intrinsic+json": {
              "type": "string"
            }
          },
          "metadata": {},
          "execution_count": 24
        }
      ]
    },
    {
      "cell_type": "code",
      "source": [
        "encoded_list = []\n",
        "for i in hindi_test:\n",
        "  encoded_list.append(tokenizer(i,return_tensors=\"pt\").input_ids.to(model.device))"
      ],
      "metadata": {
        "id": "9j-NfJtcSq69"
      },
      "execution_count": null,
      "outputs": []
    },
    {
      "cell_type": "code",
      "source": [
        "decoded_list = []\n",
        "for i in range(len(encoded_list)):\n",
        "  generated_tokens = model.generate(input_ids=encoded_list[i])\n",
        "  decoded_list.append(tokenizer.batch_decode(generated_tokens, skip_special_tokens=True))"
      ],
      "metadata": {
        "id": "DHSyBmmTStOX"
      },
      "execution_count": null,
      "outputs": []
    },
    {
      "cell_type": "code",
      "source": [
        "decoded_list"
      ],
      "metadata": {
        "id": "kmN_md1rY-K3",
        "colab": {
          "base_uri": "https://localhost:8080/"
        },
        "outputId": "bc2de51e-eea1-4abb-9dd7-534bd8d4e346"
      },
      "execution_count": null,
      "outputs": [
        {
          "output_type": "execute_result",
          "data": {
            "text/plain": [
              "[['Arrange cards to form poker hands'],\n",
              " ['jack of spades'],\n",
              " ['Move waste to reserve slot'],\n",
              " ['Remove the ten of hearts.'],\n",
              " ['Files'],\n",
              " ['Select File'],\n",
              " ['Version Control System Plugin'],\n",
              " ['Breakpoints'],\n",
              " ['Close All'],\n",
              " ['Current Selection'],\n",
              " ['#-#-#-#-#-#file-roller. gnome-'],\n",
              " ['Add _Macro...'],\n",
              " ['an empty tableau slot'],\n",
              " ['Installed Plugins'],\n",
              " ['License:'],\n",
              " ['Move ~a onto the six of diamonds.'],\n",
              " ['Patch Plugin'],\n",
              " ['#-#-#-#-#-#gedit. gnome-2-'],\n",
              " ['_Undo Move'],\n",
              " ['Start a new game'],\n",
              " ['to an empty tableau slot'],\n",
              " ['Sans'],\n",
              " ['Place the four of clubs next to the three of clubs.'],\n",
              " ['Text to render'],\n",
              " ['Compatibility is key'],\n",
              " ['Move a card from the reserve to the empty slot'],\n",
              " [\"I think I'll have to scratch my back right away...\"],\n",
              " ['Thai'],\n",
              " ['Remove the ten of clubs.'],\n",
              " ['Romanian'],\n",
              " ['Bold'],\n",
              " ['_Fullscreen'],\n",
              " ['Move ~a onto the eight of spades.'],\n",
              " ['three of diamonds'],\n",
              " ['to an empty tableau slot'],\n",
              " ['You are looking for a king.'],\n",
              " ['Progressive Round'],\n",
              " [\"Never whistle in a dog's ear\"],\n",
              " ['Move ~a onto the ten of diamonds.'],\n",
              " ['Adjust Breakpoint'],\n",
              " ['Giant'],\n",
              " ['Save the current file with a different name'],\n",
              " ['%s on the tablestockslot hint'],\n",
              " ['Close all open files'],\n",
              " ['Project Plan'],\n",
              " ['Georgian'],\n",
              " ['Move ~a onto the three of spades.'],\n",
              " ['Place the queen of diamonds next to the jack of diamonds.'],\n",
              " ['Spider'],\n",
              " ['jack of spades'],\n",
              " ['Are you sure you want to permanently delete all items in the trash?'],\n",
              " ['Path:'],\n",
              " ['#-#-#-#-#-#gedit. gnome-2-'],\n",
              " ['4number'],\n",
              " ['Program Parameters'],\n",
              " ['_Search'],\n",
              " ['ace of hearts'],\n",
              " ['Rows'],\n",
              " ['Giant'],\n",
              " ['_Preferences'],\n",
              " ['Move waste to reserve slot'],\n",
              " ['Add to shortkey_file:'],\n",
              " ['Gdb plugin.'],\n",
              " ['No'],\n",
              " ['Warning:'],\n",
              " ['GNOME Games Website'],\n",
              " ['Move ~a onto the jack of diamonds.'],\n",
              " ['Action'],\n",
              " ['Hint'],\n",
              " ['_Statusbar'],\n",
              " ['Whether to use animation in card moves.'],\n",
              " ['Close Project'],\n",
              " ['Revision:'],\n",
              " ['Undo the last move'],\n",
              " ['two of spades'],\n",
              " ['_Rename'],\n",
              " ['Current Selection'],\n",
              " ['You are looking for a three.'],\n",
              " ['Remove the king of hearts.'],\n",
              " ['Logging in: %s'],\n",
              " ['Print Preview'],\n",
              " ['Remove the ten of spades.'],\n",
              " ['Name'],\n",
              " ['Interface:'],\n",
              " ['Odessa'],\n",
              " ['eight of spades'],\n",
              " ['Skip static declarations'],\n",
              " ['Beaver Wings'],\n",
              " ['Added'],\n",
              " ['seven of clubs'],\n",
              " ['Enable Code Completion'],\n",
              " ['Diff'],\n",
              " ['Hide or show the toolbar'],\n",
              " ['Directory'],\n",
              " ['Forty Thieves'],\n",
              " ['Worst:'],\n",
              " ['Revision:'],\n",
              " ['three of diamonds'],\n",
              " ['Move ~a onto the eight of hearts.'],\n",
              " ['Move ~a onto the king of clubs.']]"
            ]
          },
          "metadata": {},
          "execution_count": 27
        }
      ]
    },
    {
      "cell_type": "code",
      "source": [
        "english_test[0]"
      ],
      "metadata": {
        "id": "5ibxoeuCZeGa",
        "colab": {
          "base_uri": "https://localhost:8080/",
          "height": 36
        },
        "outputId": "fb563986-dc1c-4bd3-db03-2e9d4c080221"
      },
      "execution_count": null,
      "outputs": [
        {
          "output_type": "execute_result",
          "data": {
            "text/plain": [
              "'Place cards on to the Tableau to form poker hands'"
            ],
            "application/vnd.google.colaboratory.intrinsic+json": {
              "type": "string"
            }
          },
          "metadata": {},
          "execution_count": 28
        }
      ]
    },
    {
      "cell_type": "code",
      "source": [
        "from nltk.translate import chrf_score"
      ],
      "metadata": {
        "id": "n85rLSWq63bw"
      },
      "execution_count": null,
      "outputs": []
    },
    {
      "cell_type": "code",
      "source": [
        "res = chrf_score.sentence_chrf(english_test[0].lower().split(), decoded_list[0][0].lower().split())\n",
        "print(res)"
      ],
      "metadata": {
        "id": "cGecvdMMd94y",
        "colab": {
          "base_uri": "https://localhost:8080/"
        },
        "outputId": "46ed9397-34c7-4b19-ed8f-6e64381de984"
      },
      "execution_count": null,
      "outputs": [
        {
          "output_type": "stream",
          "name": "stdout",
          "text": [
            "0.4778027785775933\n"
          ]
        }
      ]
    },
    {
      "cell_type": "code",
      "source": [
        "def check_chrf(reference,predictions):\n",
        "  score = chrf_score.sentence_chrf(reference, predictions,min_len=1,max_len=3)\n",
        "  return score"
      ],
      "metadata": {
        "id": "QfjBJdr3BwS3"
      },
      "execution_count": null,
      "outputs": []
    },
    {
      "cell_type": "code",
      "source": [
        "chrfscores = []\n",
        "for i in range(len(decoded_list)):\n",
        "  print(check_chrf(english_test[i].lower().split(),decoded_list[i][0].lower().split()))\n",
        "  chrfscores.append(check_chrf([english_test[i].lower()],decoded_list[i][0].lower()))"
      ],
      "metadata": {
        "colab": {
          "base_uri": "https://localhost:8080/"
        },
        "id": "WIa63f1pBy54",
        "outputId": "8ef2b33d-da1f-4eee-f17d-97e3d881a9fb"
      },
      "execution_count": null,
      "outputs": [
        {
          "output_type": "stream",
          "name": "stdout",
          "text": [
            "0.5541869535967848\n",
            "1.0\n",
            "0.5731476773267893\n",
            "0.8480785296574771\n",
            "0.3910160326625218\n",
            "0.3276112720213002\n",
            "0.9652163792890267\n",
            "1.0\n",
            "1.0\n",
            "0.6778587232321581\n",
            "0.16864323795016867\n",
            "0.8393939393939395\n",
            "0.7433223161628835\n",
            "1.0\n",
            "1.0\n",
            "1.0\n",
            "1.0\n",
            "0.0918241464938504\n",
            "1.0\n",
            "1.0\n",
            "0.7502200322139649\n",
            "0.13605442176870755\n",
            "1.0\n",
            "0.603596984410938\n",
            "0.43123697785587245\n",
            "0.7702105701248768\n",
            "0.3899659109030993\n",
            "1.0\n",
            "0.8154810276369909\n",
            "0.5456349206349206\n",
            "1.0\n",
            "1.0\n",
            "1.0\n",
            "1.0\n",
            "0.7502200322139649\n",
            "0.7000862472785668\n",
            "0.9432463679938379\n",
            "0.7559419377811548\n",
            "1.0\n",
            "0.8852566198103956\n",
            "1.0\n",
            "0.9040742109114092\n",
            "0.36923367144080216\n",
            "0.628295376121463\n",
            "0.31582491582491584\n",
            "1.0\n",
            "0.485575593533752\n",
            "1.0\n",
            "1.0\n",
            "1.0\n",
            "0.6510692306344037\n",
            "1.0\n",
            "0.07575757575757582\n",
            "0.2083333333333334\n",
            "0.9466208196454445\n",
            "1.0\n",
            "1.0\n",
            "0.0680272108843538\n",
            "1.0\n",
            "0.16409266409266413\n",
            "0.799073945933455\n",
            "0.3124030667066661\n",
            "1.0\n",
            "0.6666666666666666\n",
            "1.0\n",
            "1.0\n",
            "1.0\n",
            "1.0\n",
            "1e-16\n",
            "1.0\n",
            "0.7249973055561371\n",
            "0.5276907719207447\n",
            "0.6881060817300245\n",
            "1.0\n",
            "1.0\n",
            "1.0\n",
            "0.46234911668550877\n",
            "0.7127698277952947\n",
            "0.7579375040169755\n",
            "0.41548348479041547\n",
            "1.0\n",
            "0.8138680033416876\n",
            "1.0\n",
            "1.0\n",
            "1.0\n",
            "0.8157572387828159\n",
            "0.703942652329749\n",
            "0.50881740701465\n",
            "1.0\n",
            "0.8022159378148638\n",
            "0.4502597256396648\n",
            "1.0\n",
            "0.8362573099415204\n",
            "1.0\n",
            "1.0\n",
            "1.0\n",
            "1.0\n",
            "0.8379354860396878\n",
            "1.0\n",
            "0.45024370308037076\n"
          ]
        }
      ]
    },
    {
      "cell_type": "code",
      "source": [
        "graph_chrf=[]\n",
        "for i in range(len(decoded_graph_list)):\n",
        "  graph_chrf.append(check_chrf([english_graph_list[i].lower()],decoded_graph_list[i][0].lower()))"
      ],
      "metadata": {
        "id": "OqW4aPR4gdVa"
      },
      "execution_count": null,
      "outputs": []
    },
    {
      "cell_type": "code",
      "source": [
        "graph_chrf"
      ],
      "metadata": {
        "colab": {
          "base_uri": "https://localhost:8080/"
        },
        "id": "cLdbBnUOJsf-",
        "outputId": "40d9a536-2dcd-4831-97cd-da7452e0e323"
      },
      "execution_count": null,
      "outputs": [
        {
          "output_type": "execute_result",
          "data": {
            "text/plain": [
              "[0.7063960689325651,\n",
              " 0.6617339103727488,\n",
              " 1.0,\n",
              " 1.0,\n",
              " 0.9084661687486139,\n",
              " 1.0,\n",
              " 1.0,\n",
              " 1.0,\n",
              " 1.0,\n",
              " 0.9531024531024531,\n",
              " 1.0,\n",
              " 0.7000862472785668,\n",
              " 1.0,\n",
              " 1.0,\n",
              " 0.18438697318007666,\n",
              " 1.0,\n",
              " 1.0]"
            ]
          },
          "metadata": {},
          "execution_count": 34
        }
      ]
    },
    {
      "cell_type": "code",
      "source": [
        "import matplotlib.pyplot as plt"
      ],
      "metadata": {
        "id": "MTW9N4eVgksC"
      },
      "execution_count": null,
      "outputs": []
    },
    {
      "cell_type": "code",
      "source": [
        "import pandas as pd\n",
        "from pathlib import Path\n",
        "from matplotlib.font_manager import FontProperties\n",
        "\n",
        "# point to the font location with an absolute path\n",
        "nirm = Path('/content/drive/MyDrive/Nirmala-UI.ttf')\n",
        "\n",
        "# configure the Hindi font\n",
        "hindi_font = FontProperties(fname=nirm)"
      ],
      "metadata": {
        "id": "Os7DqCYnJFOw"
      },
      "execution_count": null,
      "outputs": []
    },
    {
      "cell_type": "code",
      "source": [
        "len(hindi_test[0])"
      ],
      "metadata": {
        "id": "zwIW3elj3vnv",
        "colab": {
          "base_uri": "https://localhost:8080/"
        },
        "outputId": "7f03cbcc-754a-484e-fa18-7129927f0612"
      },
      "execution_count": null,
      "outputs": [
        {
          "output_type": "execute_result",
          "data": {
            "text/plain": [
              "53"
            ]
          },
          "metadata": {},
          "execution_count": 37
        }
      ]
    },
    {
      "cell_type": "code",
      "source": [
        "fig, ax = plt.subplots(figsize =(16, 9))\n",
        "ax.barh(hindi_graph_list_copy, graph_chrf)\n",
        "for s in ['top', 'bottom', 'left', 'right']:\n",
        "    ax.spines[s].set_visible(False)\n",
        "ax.xaxis.set_ticks_position('none')\n",
        "ax.yaxis.set_ticks_position('none')\n",
        "ax.xaxis.set_tick_params(pad = 5)\n",
        "ax.yaxis.set_tick_params(pad = 10)\n",
        "\n",
        "text = [item.get_text() for item in ax.get_yticklabels()]\n",
        "ax.set_yticklabels(text, fontproperties=hindi_font)\n",
        "for rect in ax.patches:\n",
        "    # Find where everything is located\n",
        "    height = rect.get_height()\n",
        "    width = rect.get_width()\n",
        "    x = rect.get_x()\n",
        "    y = rect.get_y()\n",
        "\n",
        "    # The width of the bar is the count value and can used as the label\n",
        "    label_text = f'{width:.02f}'\n",
        "\n",
        "    label_x = x + width / 2\n",
        "    label_y = y + height / 2\n",
        "\n",
        "\n",
        "ax.grid(color ='grey',\n",
        "        linestyle ='-.', linewidth = 0.6,\n",
        "        alpha = 0.4)\n",
        "ax.invert_yaxis()\n",
        "'''\n",
        "for i in ax.patches:\n",
        "    plt.text(i.get_width()+0.02, i.get_y()+0.5,\n",
        "             str(round((i.get_width()), 2)),\n",
        "             fontsize = 10, fontweight ='bold',\n",
        "             color ='grey')\n",
        "             '''\n",
        "plt.title('CHRF++ of madlad model')\n",
        "plt.xlabel('CHRF++ Score')\n",
        "plt.ylabel('Hindi Sentences')\n",
        "plt.show()"
      ],
      "metadata": {
        "id": "gt14EyNM-Wm9",
        "colab": {
          "base_uri": "https://localhost:8080/",
          "height": 412
        },
        "outputId": "b1b9c7d0-2a32-4fc6-dc57-30670d042474"
      },
      "execution_count": null,
      "outputs": [
        {
          "output_type": "stream",
          "name": "stderr",
          "text": [
            "<ipython-input-57-3e4b467d4b2f>:11: UserWarning: FixedFormatter should only be used together with FixedLocator\n",
            "  ax.set_yticklabels(text, fontproperties=hindi_font)\n"
          ]
        },
        {
          "output_type": "display_data",
          "data": {
            "text/plain": [
              "<Figure size 1600x900 with 1 Axes>"
            ],
            "image/png": "[encoded data removed]"
          },
          "metadata": {}
        }
      ]
    },
    {
      "cell_type": "code",
      "source": [
        "from statistics import mean"
      ],
      "metadata": {
        "id": "nKa5f5yoABsE"
      },
      "execution_count": null,
      "outputs": []
    },
    {
      "cell_type": "code",
      "source": [
        "mean(chrfscores)"
      ],
      "metadata": {
        "colab": {
          "base_uri": "https://localhost:8080/"
        },
        "id": "-LLLMP02ORoe",
        "outputId": "223feec6-8b7a-44cc-a58c-771c2849ede7"
      },
      "execution_count": null,
      "outputs": [
        {
          "output_type": "execute_result",
          "data": {
            "text/plain": [
              "0.7676113109638121"
            ]
          },
          "metadata": {},
          "execution_count": 40
        }
      ]
    },
    {
      "cell_type": "code",
      "source": [
        "from nltk.translate.bleu_score import sentence_bleu\n",
        "\n",
        "# Define your desired weights (example: higher weight for bi-grams)\n",
        "weights = (0.25, 0.25, 0, 0)  # Weights for uni-gram, bi-gram, tri-gram, and 4-gram\n",
        "\n",
        "# Reference and predicted texts (same as before)\n",
        "reference = [['Give', 'your', 'application', 'an', 'accessibility', 'workout']]\n",
        "predictions = ['Benefit', 'your', 'application', 'from', 'accessibility', 'exercises']\n",
        "\n",
        "# Calculate BLEU score with weights\n",
        "score = sentence_bleu([english_test[15].split()], decoded_list[15][0].split(),weights=weights)\n",
        "print(score)"
      ],
      "metadata": {
        "colab": {
          "base_uri": "https://localhost:8080/"
        },
        "id": "RjfLQSwvK46s",
        "outputId": "59fa8c0a-76c8-4d34-b724-055f9072e2b7"
      },
      "execution_count": null,
      "outputs": [
        {
          "output_type": "stream",
          "name": "stdout",
          "text": [
            "0.7536998328984836\n"
          ]
        }
      ]
    },
    {
      "cell_type": "code",
      "source": [
        "def check_bleu(reference,predictions):\n",
        "  weights = (0.25, 0.25, 0, 0)\n",
        "  score = sentence_bleu(reference, predictions, weights=weights)\n",
        "  return score"
      ],
      "metadata": {
        "id": "3u2tjpdLLE7S"
      },
      "execution_count": null,
      "outputs": []
    },
    {
      "cell_type": "code",
      "source": [
        "scores = []\n",
        "for i in range(len(decoded_list)):\n",
        "  print(check_bleu([english_test[i].lower()],decoded_list[i][0].lower()))\n",
        "  scores.append(check_bleu([english_test[i].lower()],decoded_list[i][0].lower()))"
      ],
      "metadata": {
        "colab": {
          "base_uri": "https://localhost:8080/"
        },
        "id": "WTiNdJ0PLHRb",
        "outputId": "e4b476a3-ceec-4e69-ef6b-f4b6251f7a79"
      },
      "execution_count": null,
      "outputs": [
        {
          "output_type": "stream",
          "name": "stdout",
          "text": [
            "0.5708745070398581\n",
            "1.0\n",
            "0.8343519768888821\n",
            "0.9472158794310398\n",
            "0.4960923395774537\n",
            "0.28117355391392446\n",
            "0.9333588643117228\n",
            "1.0\n",
            "1.0\n",
            "0.8674370228188473\n",
            "0.2753358028987337\n",
            "0.8847028384505817\n",
            "0.8676710546861114\n",
            "1.0\n",
            "1.0\n",
            "0.9624817203144129\n",
            "1.0\n",
            "0.17173118638645238\n",
            "0.8785822423787161\n",
            "1.0\n",
            "0.8186902147734563\n",
            "7.998434422407446e-78\n",
            "1.0\n",
            "0.48954165955695317\n",
            "0.7089602879922362\n",
            "0.7873121827816278\n",
            "0.6761234037828132\n",
            "1.0\n",
            "0.8898377097406743\n",
            "0.7825422900366437\n",
            "1.0\n",
            "0.8893635185225456\n",
            "0.9624817203144129\n",
            "1.0\n",
            "0.8186902147734563\n",
            "0.8457315710156035\n",
            "0.9428731438548749\n",
            "0.8602400071497226\n",
            "0.9624817203144129\n",
            "0.77672372817166\n",
            "1.0\n",
            "0.694437054145595\n",
            "0.4981423827508884\n",
            "0.749634235443537\n",
            "0.5900468726392808\n",
            "1.0\n",
            "0.4956879570310086\n",
            "1.0\n",
            "1.0\n",
            "1.0\n",
            "0.8423190162029556\n",
            "1.0\n",
            "6.432062707336974e-78\n",
            "7.508645449069235e-78\n",
            "0.9459594689067654\n",
            "0.8282522410375708\n",
            "1.0\n",
            "6.725854833444237e-78\n",
            "1.0\n",
            "0.38827267775222324\n",
            "0.825052966980536\n",
            "0.45499414040480374\n",
            "1.0\n",
            "1.0\n",
            "1.0\n",
            "0.9352689140760907\n",
            "0.9635752636155307\n",
            "1.0\n",
            "0\n",
            "0.8785822423787161\n",
            "0.8952558883806976\n",
            "0.7381535622204483\n",
            "0.5737534207374327\n",
            "1.0\n",
            "1.0\n",
            "0.8282522410375708\n",
            "0.5873830737984134\n",
            "0.8511517518171717\n",
            "0.8920276909585438\n",
            "0.5445178846139404\n",
            "1.0\n",
            "0.9357323526366464\n",
            "1.0\n",
            "1.0\n",
            "1.0\n",
            "0.7659283383646487\n",
            "0.7556720457448196\n",
            "0.7419446627365011\n",
            "1.0\n",
            "0.7514772930752859\n",
            "0.6072338290359599\n",
            "1.0\n",
            "0.9889485799795921\n",
            "1.0\n",
            "1.0\n",
            "1.0\n",
            "1.0\n",
            "0.7903383629814982\n",
            "0.9624817203144129\n",
            "0.46896009144758866\n"
          ]
        },
        {
          "output_type": "stream",
          "name": "stderr",
          "text": [
            "/usr/local/lib/python3.10/dist-packages/nltk/translate/bleu_score.py:552: UserWarning: \n",
            "The hypothesis contains 0 counts of 4-gram overlaps.\n",
            "Therefore the BLEU score evaluates to 0, independently of\n",
            "how many N-gram overlaps of lower order it contains.\n",
            "Consider using lower n-gram order or use SmoothingFunction()\n",
            "  warnings.warn(_msg)\n",
            "/usr/local/lib/python3.10/dist-packages/nltk/translate/bleu_score.py:552: UserWarning: \n",
            "The hypothesis contains 0 counts of 3-gram overlaps.\n",
            "Therefore the BLEU score evaluates to 0, independently of\n",
            "how many N-gram overlaps of lower order it contains.\n",
            "Consider using lower n-gram order or use SmoothingFunction()\n",
            "  warnings.warn(_msg)\n",
            "/usr/local/lib/python3.10/dist-packages/nltk/translate/bleu_score.py:552: UserWarning: \n",
            "The hypothesis contains 0 counts of 2-gram overlaps.\n",
            "Therefore the BLEU score evaluates to 0, independently of\n",
            "how many N-gram overlaps of lower order it contains.\n",
            "Consider using lower n-gram order or use SmoothingFunction()\n",
            "  warnings.warn(_msg)\n"
          ]
        }
      ]
    },
    {
      "cell_type": "code",
      "source": [
        "mean(scores)"
      ],
      "metadata": {
        "colab": {
          "base_uri": "https://localhost:8080/"
        },
        "id": "iZT4LdNCLJDq",
        "outputId": "02396fb7-d9a2-445f-e59e-88b189abf200"
      },
      "execution_count": null,
      "outputs": [
        {
          "output_type": "execute_result",
          "data": {
            "text/plain": [
              "0.7995204058512451"
            ]
          },
          "metadata": {},
          "execution_count": 44
        }
      ]
    },
    {
      "cell_type": "code",
      "source": [
        "graph_bleu=[]\n",
        "for i in range(len(decoded_graph_list)):\n",
        "  graph_bleu.append(check_bleu([english_graph_list[i].lower()],decoded_graph_list[i][0].lower()))"
      ],
      "metadata": {
        "id": "aMtVuC-dLMb-"
      },
      "execution_count": null,
      "outputs": []
    },
    {
      "cell_type": "code",
      "source": [
        "fig, ax = plt.subplots(figsize =(16, 9))\n",
        "ax.barh(hindi_graph_list, graph_bleu)\n",
        "for s in ['top', 'bottom', 'left', 'right']:\n",
        "    ax.spines[s].set_visible(False)\n",
        "ax.xaxis.set_ticks_position('none')\n",
        "ax.yaxis.set_ticks_position('none')\n",
        "ax.xaxis.set_tick_params(pad = 5)\n",
        "ax.yaxis.set_tick_params(pad = 10)\n",
        "\n",
        "text = [item.get_text() for item in ax.get_yticklabels()]\n",
        "ax.set_yticklabels(text, fontproperties=hindi_font)\n",
        "for rect in ax.patches:\n",
        "    # Find where everything is located\n",
        "    height = rect.get_height()\n",
        "    width = rect.get_width()\n",
        "    x = rect.get_x()\n",
        "    y = rect.get_y()\n",
        "\n",
        "    # The width of the bar is the count value and can used as the label\n",
        "    label_text = f'{width:.02f}'\n",
        "\n",
        "    label_x = x + width / 2\n",
        "    label_y = y + height / 2\n",
        "\n",
        "\n",
        "ax.grid(color ='grey',\n",
        "        linestyle ='-.', linewidth = 0.6,\n",
        "        alpha = 0.4)\n",
        "ax.invert_yaxis()\n",
        "'''\n",
        "for i in ax.patches:\n",
        "    plt.text(i.get_width()+0.02, i.get_y()+0.5,\n",
        "             str(round((i.get_width()), 2)),\n",
        "             fontsize = 10, fontweight ='bold',\n",
        "             color ='grey')\n",
        "'''\n",
        "plt.title('BLEU Scores of madlad model')\n",
        "plt.xlabel('BLEU Score')\n",
        "plt.ylabel('Hindi Sentences')\n",
        "plt.show()"
      ],
      "metadata": {
        "colab": {
          "base_uri": "https://localhost:8080/",
          "height": 402
        },
        "id": "yyFMC6ouNtYY",
        "outputId": "cef3295f-decc-49fc-f0a1-761c78168923"
      },
      "execution_count": null,
      "outputs": [
        {
          "output_type": "stream",
          "name": "stderr",
          "text": [
            "<ipython-input-46-50e71a2de70a>:11: UserWarning: FixedFormatter should only be used together with FixedLocator\n",
            "  ax.set_yticklabels(text, fontproperties=hindi_font)\n"
          ]
        },
        {
          "output_type": "display_data",
          "data": {
            "text/plain": [
              "<Figure size 1600x900 with 1 Axes>"
            ],
            "image/png": "[encoded data removed]"
          },
          "metadata": {}
        }
      ]
    },
    {
      "cell_type": "code",
      "source": [
        "import pandas as pd"
      ],
      "metadata": {
        "id": "M-A8ZYrqWTdd"
      },
      "execution_count": null,
      "outputs": []
    },
    {
      "cell_type": "code",
      "source": [
        "import numpy as np"
      ],
      "metadata": {
        "id": "GsMxP_d0WWV7"
      },
      "execution_count": null,
      "outputs": []
    },
    {
      "cell_type": "code",
      "source": [
        "fig, ax = plt.subplots(figsize =(12, 6.77))\n",
        "y=np.arange(17)\n",
        "width=0.36\n",
        "ax.barh(y-0.18, graph_bleu,width,label='BLEU')\n",
        "ax.barh(y+0.18, graph_chrf,width,label='CHRF++',color='cyan')\n",
        "plt.yticks(y, hindi_graph_list_copy)\n",
        "ax.legend(fontsize=10)\n",
        "for s in ['top', 'bottom', 'left', 'right']:\n",
        "    ax.spines[s].set_visible(False)\n",
        "ax.xaxis.set_ticks_position('none')\n",
        "ax.yaxis.set_ticks_position('none')\n",
        "ax.xaxis.set_tick_params(pad = 5)\n",
        "ax.yaxis.set_tick_params(pad = 10)\n",
        "\n",
        "text = [item.get_text() for item in ax.get_yticklabels()]\n",
        "ax.set_yticklabels(text, fontproperties=hindi_font)\n",
        "for rect in ax.patches:\n",
        "    # Find where everything is located\n",
        "    height = rect.get_height()\n",
        "    width = rect.get_width()\n",
        "    x = rect.get_x()\n",
        "    y = rect.get_y()\n",
        "\n",
        "    # The width of the bar is the count value and can used as the label\n",
        "    label_text = f'{width:.02f}'\n",
        "\n",
        "    label_x = x + width / 2\n",
        "    label_y = y + height / 2\n",
        "\n",
        "\n",
        "ax.grid(color ='grey',\n",
        "        linestyle ='-.', linewidth = 0.4,\n",
        "        alpha = 0.4)\n",
        "ax.invert_yaxis()\n",
        "'''\n",
        "for i in ax.patches:\n",
        "    plt.text(i.get_width()+0.02, i.get_y()+0.5,\n",
        "             str(round((i.get_width()), 2)),\n",
        "             fontsize = 10, fontweight ='bold',\n",
        "             color ='grey')\n",
        "'''\n",
        "plt.title('Scores of madlad translations')\n",
        "plt.xlabel('BLEU Score')\n",
        "plt.ylabel('Hindi Sentences')\n",
        "plt.show()"
      ],
      "metadata": {
        "id": "faS5sQdpN7ck",
        "colab": {
          "base_uri": "https://localhost:8080/",
          "height": 352
        },
        "outputId": "e78f01dc-fe5e-4572-8a72-4ee1bea24e93"
      },
      "execution_count": null,
      "outputs": [
        {
          "output_type": "display_data",
          "data": {
            "text/plain": [
              "<Figure size 1200x677 with 1 Axes>"
            ],
            "image/png": "[encoded data removed]"
          },
          "metadata": {}
        }
      ]
    },
    {
      "cell_type": "code",
      "source": [],
      "metadata": {
        "id": "PbnCBBjoRdFx"
      },
      "execution_count": null,
      "outputs": []
    }
  ]
}